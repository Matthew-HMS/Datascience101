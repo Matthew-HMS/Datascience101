{
 "cells": [
  {
   "cell_type": "markdown",
   "metadata": {},
   "source": [
    "### 1. A/B Testing"
   ]
  },
  {
   "cell_type": "code",
   "execution_count": 13,
   "metadata": {},
   "outputs": [],
   "source": [
    "from datascience import *\n",
    "import numpy as np\n",
    "\n",
    "import matplotlib\n",
    "matplotlib.use('Agg')\n",
    "%matplotlib inline\n",
    "import matplotlib.pyplot as plots\n",
    "plots.style.use('fivethirtyeight')"
   ]
  },
  {
   "cell_type": "code",
   "execution_count": 14,
   "metadata": {},
   "outputs": [
    {
     "data": {
      "text/html": [
       "<table border=\"1\" class=\"dataframe\">\n",
       "    <thead>\n",
       "        <tr>\n",
       "            <th>Birth Weight</th> <th>Gestational Days</th> <th>Maternal Age</th> <th>Maternal Height</th> <th>Maternal Pregnancy Weight</th> <th>Maternal Smoker</th>\n",
       "        </tr>\n",
       "    </thead>\n",
       "    <tbody>\n",
       "        <tr>\n",
       "            <td>120         </td> <td>284             </td> <td>27          </td> <td>62             </td> <td>100                      </td> <td>False          </td>\n",
       "        </tr>\n",
       "        <tr>\n",
       "            <td>113         </td> <td>282             </td> <td>33          </td> <td>64             </td> <td>135                      </td> <td>False          </td>\n",
       "        </tr>\n",
       "        <tr>\n",
       "            <td>128         </td> <td>279             </td> <td>28          </td> <td>64             </td> <td>115                      </td> <td>True           </td>\n",
       "        </tr>\n",
       "        <tr>\n",
       "            <td>108         </td> <td>282             </td> <td>23          </td> <td>67             </td> <td>125                      </td> <td>True           </td>\n",
       "        </tr>\n",
       "        <tr>\n",
       "            <td>136         </td> <td>286             </td> <td>25          </td> <td>62             </td> <td>93                       </td> <td>False          </td>\n",
       "        </tr>\n",
       "        <tr>\n",
       "            <td>138         </td> <td>244             </td> <td>33          </td> <td>62             </td> <td>178                      </td> <td>False          </td>\n",
       "        </tr>\n",
       "        <tr>\n",
       "            <td>132         </td> <td>245             </td> <td>23          </td> <td>65             </td> <td>140                      </td> <td>False          </td>\n",
       "        </tr>\n",
       "        <tr>\n",
       "            <td>120         </td> <td>289             </td> <td>25          </td> <td>62             </td> <td>125                      </td> <td>False          </td>\n",
       "        </tr>\n",
       "        <tr>\n",
       "            <td>143         </td> <td>299             </td> <td>30          </td> <td>66             </td> <td>136                      </td> <td>True           </td>\n",
       "        </tr>\n",
       "        <tr>\n",
       "            <td>140         </td> <td>351             </td> <td>27          </td> <td>68             </td> <td>120                      </td> <td>False          </td>\n",
       "        </tr>\n",
       "    </tbody>\n",
       "</table>\n",
       "<p>... (1164 rows omitted)</p>"
      ],
      "text/plain": [
       "Birth Weight | Gestational Days | Maternal Age | Maternal Height | Maternal Pregnancy Weight | Maternal Smoker\n",
       "120          | 284              | 27           | 62              | 100                       | False\n",
       "113          | 282              | 33           | 64              | 135                       | False\n",
       "128          | 279              | 28           | 64              | 115                       | True\n",
       "108          | 282              | 23           | 67              | 125                       | True\n",
       "136          | 286              | 25           | 62              | 93                        | False\n",
       "138          | 244              | 33           | 62              | 178                       | False\n",
       "132          | 245              | 23           | 65              | 140                       | False\n",
       "120          | 289              | 25           | 62              | 125                       | False\n",
       "143          | 299              | 30           | 66              | 136                       | True\n",
       "140          | 351              | 27           | 68              | 120                       | False\n",
       "... (1164 rows omitted)"
      ]
     },
     "execution_count": 14,
     "metadata": {},
     "output_type": "execute_result"
    }
   ],
   "source": [
    "births = Table.read_table('https://raw.githubusercontent.com/yu-to-chen/data-science/master/assets/data/baby.csv')\n",
    "births"
   ]
  },
  {
   "cell_type": "code",
   "execution_count": 15,
   "metadata": {},
   "outputs": [],
   "source": [
    "somking_and_birthweight = births.select('Maternal Smoker', 'Birth Weight')"
   ]
  },
  {
   "cell_type": "code",
   "execution_count": 16,
   "metadata": {},
   "outputs": [
    {
     "data": {
      "text/html": [
       "<table border=\"1\" class=\"dataframe\">\n",
       "    <thead>\n",
       "        <tr>\n",
       "            <th>Maternal Smoker</th> <th>count</th>\n",
       "        </tr>\n",
       "    </thead>\n",
       "    <tbody>\n",
       "        <tr>\n",
       "            <td>False          </td> <td>715  </td>\n",
       "        </tr>\n",
       "        <tr>\n",
       "            <td>True           </td> <td>459  </td>\n",
       "        </tr>\n",
       "    </tbody>\n",
       "</table>"
      ],
      "text/plain": [
       "Maternal Smoker | count\n",
       "False           | 715\n",
       "True            | 459"
      ]
     },
     "execution_count": 16,
     "metadata": {},
     "output_type": "execute_result"
    }
   ],
   "source": [
    "somking_and_birthweight.group('Maternal Smoker')"
   ]
  },
  {
   "cell_type": "code",
   "execution_count": 17,
   "metadata": {},
   "outputs": [
    {
     "data": {
      "image/png": "[encoded data removed]",
      "text/plain": [
       "<Figure size 600x400 with 1 Axes>"
      ]
     },
     "metadata": {},
     "output_type": "display_data"
    }
   ],
   "source": [
    "somking_and_birthweight.hist('Birth Weight', group='Maternal Smoker')"
   ]
  },
  {
   "cell_type": "code",
   "execution_count": 18,
   "metadata": {},
   "outputs": [
    {
     "data": {
      "text/html": [
       "<table border=\"1\" class=\"dataframe\">\n",
       "    <thead>\n",
       "        <tr>\n",
       "            <th>Maternal Smoker</th> <th>Birth Weight average</th>\n",
       "        </tr>\n",
       "    </thead>\n",
       "    <tbody>\n",
       "        <tr>\n",
       "            <td>False          </td> <td>123.085             </td>\n",
       "        </tr>\n",
       "        <tr>\n",
       "            <td>True           </td> <td>113.819             </td>\n",
       "        </tr>\n",
       "    </tbody>\n",
       "</table>"
      ],
      "text/plain": [
       "Maternal Smoker | Birth Weight average\n",
       "False           | 123.085\n",
       "True            | 113.819"
      ]
     },
     "execution_count": 18,
     "metadata": {},
     "output_type": "execute_result"
    }
   ],
   "source": [
    "means_tabel = somking_and_birthweight.group('Maternal Smoker', np.average)\n",
    "means_tabel"
   ]
  },
  {
   "cell_type": "code",
   "execution_count": 19,
   "metadata": {},
   "outputs": [
    {
     "data": {
      "text/plain": [
       "-9.266142572024918"
      ]
     },
     "execution_count": 19,
     "metadata": {},
     "output_type": "execute_result"
    }
   ],
   "source": [
    "means = means_tabel.column(1)\n",
    "observation_difference = means.item(1) - means.item(0)\n",
    "observation_difference"
   ]
  },
  {
   "cell_type": "code",
   "execution_count": 20,
   "metadata": {},
   "outputs": [],
   "source": [
    "def difference_of_means(table, group_label):\n",
    "    \"\"\"Takes: name of table,\n",
    "    column label that indicates the group to which the row belongs\n",
    "    Returns: Difference of mean birth weights of the two groups\"\"\"\n",
    "    reduced = table.select('Birth Weight', group_label)\n",
    "    means_table = reduced.group(group_label, np.average)\n",
    "    means = means_table.column(1)\n",
    "    return means.item(1) - means.item(0)"
   ]
  },
  {
   "cell_type": "code",
   "execution_count": 21,
   "metadata": {},
   "outputs": [
    {
     "data": {
      "text/plain": [
       "-9.266142572024918"
      ]
     },
     "execution_count": 21,
     "metadata": {},
     "output_type": "execute_result"
    }
   ],
   "source": [
    "difference_of_means(births, 'Maternal Smoker')"
   ]
  },
  {
   "cell_type": "code",
   "execution_count": 22,
   "metadata": {},
   "outputs": [
    {
     "data": {
      "text/html": [
       "<table border=\"1\" class=\"dataframe\">\n",
       "    <thead>\n",
       "        <tr>\n",
       "            <th>Maternal Smoker</th> <th>Birth Weight</th> <th>Shuffled Label</th>\n",
       "        </tr>\n",
       "    </thead>\n",
       "    <tbody>\n",
       "        <tr>\n",
       "            <td>False          </td> <td>120         </td> <td>False         </td>\n",
       "        </tr>\n",
       "        <tr>\n",
       "            <td>False          </td> <td>113         </td> <td>False         </td>\n",
       "        </tr>\n",
       "        <tr>\n",
       "            <td>True           </td> <td>128         </td> <td>False         </td>\n",
       "        </tr>\n",
       "        <tr>\n",
       "            <td>True           </td> <td>108         </td> <td>False         </td>\n",
       "        </tr>\n",
       "        <tr>\n",
       "            <td>False          </td> <td>136         </td> <td>False         </td>\n",
       "        </tr>\n",
       "        <tr>\n",
       "            <td>False          </td> <td>138         </td> <td>False         </td>\n",
       "        </tr>\n",
       "        <tr>\n",
       "            <td>False          </td> <td>132         </td> <td>True          </td>\n",
       "        </tr>\n",
       "        <tr>\n",
       "            <td>False          </td> <td>120         </td> <td>False         </td>\n",
       "        </tr>\n",
       "        <tr>\n",
       "            <td>True           </td> <td>143         </td> <td>True          </td>\n",
       "        </tr>\n",
       "        <tr>\n",
       "            <td>False          </td> <td>140         </td> <td>False         </td>\n",
       "        </tr>\n",
       "    </tbody>\n",
       "</table>\n",
       "<p>... (1164 rows omitted)</p>"
      ],
      "text/plain": [
       "Maternal Smoker | Birth Weight | Shuffled Label\n",
       "False           | 120          | False\n",
       "False           | 113          | False\n",
       "True            | 128          | False\n",
       "True            | 108          | False\n",
       "False           | 136          | False\n",
       "False           | 138          | False\n",
       "False           | 132          | True\n",
       "False           | 120          | False\n",
       "True            | 143          | True\n",
       "False           | 140          | False\n",
       "... (1164 rows omitted)"
      ]
     },
     "execution_count": 22,
     "metadata": {},
     "output_type": "execute_result"
    }
   ],
   "source": [
    "shuffled_labels = somking_and_birthweight.sample(with_replacement=False).column(0)\n",
    "original_and_shuffled = somking_and_birthweight.with_column('Shuffled Label', shuffled_labels)\n",
    "original_and_shuffled"
   ]
  },
  {
   "cell_type": "code",
   "execution_count": 23,
   "metadata": {},
   "outputs": [
    {
     "data": {
      "text/html": [
       "<table border=\"1\" class=\"dataframe\">\n",
       "    <thead>\n",
       "        <tr>\n",
       "            <th>Shuffled Label</th> <th>Birth Weight average</th>\n",
       "        </tr>\n",
       "    </thead>\n",
       "    <tbody>\n",
       "        <tr>\n",
       "            <td>False         </td> <td>119.278             </td>\n",
       "        </tr>\n",
       "        <tr>\n",
       "            <td>True          </td> <td>119.749             </td>\n",
       "        </tr>\n",
       "    </tbody>\n",
       "</table>"
      ],
      "text/plain": [
       "Shuffled Label | Birth Weight average\n",
       "False          | 119.278\n",
       "True           | 119.749"
      ]
     },
     "execution_count": 23,
     "metadata": {},
     "output_type": "execute_result"
    }
   ],
   "source": [
    "shuffled_only = original_and_shuffled.select('Birth Weight', 'Shuffled Label')\n",
    "shuffled_group_means = shuffled_only.group('Shuffled Label', np.average)\n",
    "shuffled_group_means"
   ]
  },
  {
   "cell_type": "code",
   "execution_count": 24,
   "metadata": {},
   "outputs": [
    {
     "data": {
      "text/plain": [
       "0.47113365936895946"
      ]
     },
     "execution_count": 24,
     "metadata": {},
     "output_type": "execute_result"
    }
   ],
   "source": [
    "difference_of_means(original_and_shuffled, 'Shuffled Label')"
   ]
  },
  {
   "cell_type": "code",
   "execution_count": 34,
   "metadata": {},
   "outputs": [],
   "source": [
    "observed_difference = difference_of_means(original_and_shuffled, 'Maternal Smoker')"
   ]
  },
  {
   "cell_type": "code",
   "execution_count": 26,
   "metadata": {},
   "outputs": [],
   "source": [
    "def one_simulated_difference_of_means():\n",
    "    \"\"\"Returns: Difference between mean birthweights\n",
    "    of babies of smokers and non-smokers after shuffling labels\"\"\"\n",
    "    \n",
    "    # array of shuffled labels\n",
    "    shuffled_labels = births.sample(with_replacement=False).column('Maternal Smoker')\n",
    "    \n",
    "    # table of birth weights and shuffled labels\n",
    "    shuffled_table = births.select('Birth Weight').with_column(\n",
    "        'Shuffled Label', shuffled_labels)\n",
    "    \n",
    "    return difference_of_means(shuffled_table, 'Shuffled Label')  "
   ]
  },
  {
   "cell_type": "code",
   "execution_count": 31,
   "metadata": {},
   "outputs": [
    {
     "data": {
      "text/plain": [
       "-0.6020415314532954"
      ]
     },
     "execution_count": 31,
     "metadata": {},
     "output_type": "execute_result"
    }
   ],
   "source": [
    "one_simulated_difference_of_means()"
   ]
  },
  {
   "cell_type": "code",
   "execution_count": 32,
   "metadata": {},
   "outputs": [],
   "source": [
    "difference = make_array()\n",
    "\n",
    "reptitions = 5000\n",
    "for i in np.arange(reptitions):\n",
    "    new_difference = one_simulated_difference_of_means()\n",
    "    difference = np.append(difference, new_difference)"
   ]
  },
  {
   "cell_type": "code",
   "execution_count": 36,
   "metadata": {},
   "outputs": [
    {
     "name": "stdout",
     "output_type": "stream",
     "text": [
      "Observed Difference:  -9.266142572024918\n"
     ]
    },
    {
     "data": {
      "text/plain": [
       "Text(0.5, 1.0, 'Prediction Under the Null Hypothesis')"
      ]
     },
     "execution_count": 36,
     "metadata": {},
     "output_type": "execute_result"
    },
    {
     "data": {
      "image/png": "[encoded data removed]",
      "text/plain": [
       "<Figure size 600x400 with 1 Axes>"
      ]
     },
     "metadata": {},
     "output_type": "display_data"
    }
   ],
   "source": [
    "Table().with_column(\"Difference Between Group Means\", difference).hist()\n",
    "print('Observed Difference: ', observed_difference)\n",
    "plots.title('Prediction Under the Null Hypothesis')"
   ]
  },
  {
   "cell_type": "code",
   "execution_count": 38,
   "metadata": {},
   "outputs": [
    {
     "name": "stdout",
     "output_type": "stream",
     "text": [
      "Empirical P-value:  0.0\n"
     ]
    }
   ],
   "source": [
    "empirical_p = np.count_nonzero(difference <= observed_difference) / reptitions\n",
    "print('Empirical P-value: ', empirical_p)"
   ]
  },
  {
   "cell_type": "code",
   "execution_count": 39,
   "metadata": {},
   "outputs": [
    {
     "data": {
      "image/png": "[encoded data removed]",
      "text/plain": [
       "<Figure size 600x400 with 1 Axes>"
      ]
     },
     "metadata": {},
     "output_type": "display_data"
    }
   ],
   "source": [
    "smoking_and_age = births.select('Maternal Smoker', 'Maternal Age')\n",
    "smoking_and_age.hist('Maternal Age', group='Maternal Smoker')"
   ]
  },
  {
   "cell_type": "code",
   "execution_count": 40,
   "metadata": {},
   "outputs": [],
   "source": [
    "def difference_of_means(table, group_label):\n",
    "    reduced = table.select('Maternal Age', group_label)\n",
    "    means_table = reduced.group(group_label, np.average)\n",
    "    means = means_table.column(1)\n",
    "    return means.item(1) - means.item(0)"
   ]
  },
  {
   "cell_type": "code",
   "execution_count": 41,
   "metadata": {},
   "outputs": [
    {
     "data": {
      "text/plain": [
       "-0.8076725017901509"
      ]
     },
     "execution_count": 41,
     "metadata": {},
     "output_type": "execute_result"
    }
   ],
   "source": [
    "observed_age_difference = difference_of_means(births, 'Maternal Smoker')\n",
    "observed_age_difference"
   ]
  },
  {
   "cell_type": "code",
   "execution_count": 43,
   "metadata": {},
   "outputs": [],
   "source": [
    "def one_simulated_difference_of_means_age():\n",
    "    \"\"\"Returns: Difference between mean ages\n",
    "    of smokers and non-smokers after shuffling labels\"\"\"\n",
    "    \n",
    "    # array of shuffled labels\n",
    "    shuffled_labels = births.sample(with_replacement=False).column('Maternal Smoker')\n",
    "    \n",
    "    # table of ages and shuffled labels\n",
    "    shuffled_table = births.select('Maternal Age').with_column(\n",
    "        'Shuffled Label', shuffled_labels)\n",
    "    \n",
    "    return difference_of_means(shuffled_table, 'Shuffled Label')   "
   ]
  },
  {
   "cell_type": "code",
   "execution_count": 44,
   "metadata": {},
   "outputs": [],
   "source": [
    "age_difference = make_array()\n",
    "\n",
    "reptitions = 5000\n",
    "for i in np.arange(reptitions):\n",
    "    new_difference = one_simulated_difference_of_means_age()\n",
    "    age_difference = np.append(age_difference, new_difference)"
   ]
  },
  {
   "cell_type": "code",
   "execution_count": 47,
   "metadata": {},
   "outputs": [
    {
     "name": "stdout",
     "output_type": "stream",
     "text": [
      "Observed Difference:  -0.8076725017901509\n"
     ]
    },
    {
     "data": {
      "text/plain": [
       "<matplotlib.collections.PathCollection at 0x1e953d9ce50>"
      ]
     },
     "execution_count": 47,
     "metadata": {},
     "output_type": "execute_result"
    },
    {
     "data": {
      "image/png": "[encoded data removed]",
      "text/plain": [
       "<Figure size 600x400 with 1 Axes>"
      ]
     },
     "metadata": {},
     "output_type": "display_data"
    }
   ],
   "source": [
    "Table().with_column(\"Difference Between Group Means\", age_difference).hist(right_end = observed_age_difference)\n",
    "print('Observed Difference: ', observed_age_difference)\n",
    "plots.title('Prediction Under the Null Hypothesis')\n",
    "plots.ylim(-0.1, 1.2)\n",
    "plots.scatter(observed_age_difference, 0, color='red', s=40, zorder=3)"
   ]
  },
  {
   "cell_type": "code",
   "execution_count": 48,
   "metadata": {},
   "outputs": [
    {
     "name": "stdout",
     "output_type": "stream",
     "text": [
      "Empirical P-value:  0.0094\n"
     ]
    }
   ],
   "source": [
    "empirical_p = np.count_nonzero(age_difference <= observed_age_difference) / reptitions\n",
    "print('Empirical P-value: ', empirical_p)"
   ]
  },
  {
   "cell_type": "markdown",
   "metadata": {},
   "source": [
    "### 2. Causality"
   ]
  },
  {
   "cell_type": "code",
   "execution_count": 51,
   "metadata": {},
   "outputs": [],
   "source": [
    "from datascience import *\n",
    "%matplotlib inline\n",
    "\n",
    "import matplotlib.pyplot as plots\n",
    "plots.style.use('fivethirtyeight')\n",
    "import numpy as np"
   ]
  },
  {
   "cell_type": "code",
   "execution_count": 52,
   "metadata": {},
   "outputs": [
    {
     "data": {
      "text/html": [
       "<table border=\"1\" class=\"dataframe\">\n",
       "    <thead>\n",
       "        <tr>\n",
       "            <th>Group</th> <th>Result</th>\n",
       "        </tr>\n",
       "    </thead>\n",
       "    <tbody>\n",
       "        <tr>\n",
       "            <td>Control</td> <td>1     </td>\n",
       "        </tr>\n",
       "        <tr>\n",
       "            <td>Control</td> <td>1     </td>\n",
       "        </tr>\n",
       "        <tr>\n",
       "            <td>Control</td> <td>0     </td>\n",
       "        </tr>\n",
       "        <tr>\n",
       "            <td>Control</td> <td>0     </td>\n",
       "        </tr>\n",
       "        <tr>\n",
       "            <td>Control</td> <td>0     </td>\n",
       "        </tr>\n",
       "        <tr>\n",
       "            <td>Control</td> <td>0     </td>\n",
       "        </tr>\n",
       "        <tr>\n",
       "            <td>Control</td> <td>0     </td>\n",
       "        </tr>\n",
       "        <tr>\n",
       "            <td>Control</td> <td>0     </td>\n",
       "        </tr>\n",
       "        <tr>\n",
       "            <td>Control</td> <td>0     </td>\n",
       "        </tr>\n",
       "        <tr>\n",
       "            <td>Control</td> <td>0     </td>\n",
       "        </tr>\n",
       "    </tbody>\n",
       "</table>\n",
       "<p>... (21 rows omitted)</p>"
      ],
      "text/plain": [
       "Group   | Result\n",
       "Control | 1\n",
       "Control | 1\n",
       "Control | 0\n",
       "Control | 0\n",
       "Control | 0\n",
       "Control | 0\n",
       "Control | 0\n",
       "Control | 0\n",
       "Control | 0\n",
       "Control | 0\n",
       "... (21 rows omitted)"
      ]
     },
     "execution_count": 52,
     "metadata": {},
     "output_type": "execute_result"
    }
   ],
   "source": [
    "bta = Table().read_table('https://raw.githubusercontent.com/Matthew-HMS/datascience_material/main/assets/data/bta.csv')\n",
    "bta"
   ]
  },
  {
   "cell_type": "code",
   "execution_count": 53,
   "metadata": {},
   "outputs": [
    {
     "data": {
      "text/html": [
       "<table border=\"1\" class=\"dataframe\">\n",
       "    <thead>\n",
       "        <tr>\n",
       "            <th>Group</th> <th>Result sum</th>\n",
       "        </tr>\n",
       "    </thead>\n",
       "    <tbody>\n",
       "        <tr>\n",
       "            <td>Control  </td> <td>2         </td>\n",
       "        </tr>\n",
       "        <tr>\n",
       "            <td>Treatment</td> <td>9         </td>\n",
       "        </tr>\n",
       "    </tbody>\n",
       "</table>"
      ],
      "text/plain": [
       "Group     | Result sum\n",
       "Control   | 2\n",
       "Treatment | 9"
      ]
     },
     "execution_count": 53,
     "metadata": {},
     "output_type": "execute_result"
    }
   ],
   "source": [
    "bta.group('Group', sum)"
   ]
  },
  {
   "cell_type": "code",
   "execution_count": 54,
   "metadata": {},
   "outputs": [
    {
     "data": {
      "text/html": [
       "<table border=\"1\" class=\"dataframe\">\n",
       "    <thead>\n",
       "        <tr>\n",
       "            <th>Group</th> <th>Result average</th>\n",
       "        </tr>\n",
       "    </thead>\n",
       "    <tbody>\n",
       "        <tr>\n",
       "            <td>Control  </td> <td>0.125         </td>\n",
       "        </tr>\n",
       "        <tr>\n",
       "            <td>Treatment</td> <td>0.6           </td>\n",
       "        </tr>\n",
       "    </tbody>\n",
       "</table>"
      ],
      "text/plain": [
       "Group     | Result average\n",
       "Control   | 0.125\n",
       "Treatment | 0.6"
      ]
     },
     "execution_count": 54,
     "metadata": {},
     "output_type": "execute_result"
    }
   ],
   "source": [
    "bta.group('Group', np.average)"
   ]
  },
  {
   "cell_type": "code",
   "execution_count": 55,
   "metadata": {},
   "outputs": [
    {
     "data": {
      "text/html": [
       "<table border=\"1\" class=\"dataframe\">\n",
       "    <thead>\n",
       "        <tr>\n",
       "            <th>Group</th> <th>Outcome if assigned treatment</th> <th>Outcome if assigned control</th>\n",
       "        </tr>\n",
       "    </thead>\n",
       "    <tbody>\n",
       "        <tr>\n",
       "            <td>Control</td> <td>Unknown                      </td> <td>1                          </td>\n",
       "        </tr>\n",
       "        <tr>\n",
       "            <td>Control</td> <td>Unknown                      </td> <td>1                          </td>\n",
       "        </tr>\n",
       "        <tr>\n",
       "            <td>Control</td> <td>Unknown                      </td> <td>0                          </td>\n",
       "        </tr>\n",
       "        <tr>\n",
       "            <td>Control</td> <td>Unknown                      </td> <td>0                          </td>\n",
       "        </tr>\n",
       "        <tr>\n",
       "            <td>Control</td> <td>Unknown                      </td> <td>0                          </td>\n",
       "        </tr>\n",
       "        <tr>\n",
       "            <td>Control</td> <td>Unknown                      </td> <td>0                          </td>\n",
       "        </tr>\n",
       "        <tr>\n",
       "            <td>Control</td> <td>Unknown                      </td> <td>0                          </td>\n",
       "        </tr>\n",
       "        <tr>\n",
       "            <td>Control</td> <td>Unknown                      </td> <td>0                          </td>\n",
       "        </tr>\n",
       "        <tr>\n",
       "            <td>Control</td> <td>Unknown                      </td> <td>0                          </td>\n",
       "        </tr>\n",
       "        <tr>\n",
       "            <td>Control</td> <td>Unknown                      </td> <td>0                          </td>\n",
       "        </tr>\n",
       "    </tbody>\n",
       "</table>\n",
       "<p>... (21 rows omitted)</p>"
      ],
      "text/plain": [
       "Group   | Outcome if assigned treatment | Outcome if assigned control\n",
       "Control | Unknown                       | 1\n",
       "Control | Unknown                       | 1\n",
       "Control | Unknown                       | 0\n",
       "Control | Unknown                       | 0\n",
       "Control | Unknown                       | 0\n",
       "Control | Unknown                       | 0\n",
       "Control | Unknown                       | 0\n",
       "Control | Unknown                       | 0\n",
       "Control | Unknown                       | 0\n",
       "Control | Unknown                       | 0\n",
       "... (21 rows omitted)"
      ]
     },
     "execution_count": 55,
     "metadata": {},
     "output_type": "execute_result"
    }
   ],
   "source": [
    "observed_outcomes = Table().read_table('https://raw.githubusercontent.com/Matthew-HMS/datascience_material/main/assets/data/observed_outcomes.csv')\n",
    "observed_outcomes"
   ]
  },
  {
   "cell_type": "code",
   "execution_count": 56,
   "metadata": {},
   "outputs": [
    {
     "data": {
      "text/plain": [
       "0.475"
      ]
     },
     "execution_count": 56,
     "metadata": {},
     "output_type": "execute_result"
    }
   ],
   "source": [
    "observed_proportions = bta.group('Group', np.average).column(1)\n",
    "observed_distance = abs(observed_proportions.item(0) - observed_proportions.item(1))\n",
    "observed_distance"
   ]
  },
  {
   "cell_type": "code",
   "execution_count": 57,
   "metadata": {},
   "outputs": [],
   "source": [
    "def distance(table, group_label):\n",
    "    reduced = table.select('Result', group_label)\n",
    "    proportions = reduced.group(group_label, np.average).column(1)\n",
    "    return abs(proportions.item(1) - proportions.item(0))"
   ]
  },
  {
   "cell_type": "code",
   "execution_count": 58,
   "metadata": {},
   "outputs": [
    {
     "data": {
      "text/plain": [
       "0.475"
      ]
     },
     "execution_count": 58,
     "metadata": {},
     "output_type": "execute_result"
    }
   ],
   "source": [
    "distance(bta, 'Group')"
   ]
  },
  {
   "cell_type": "code",
   "execution_count": 59,
   "metadata": {},
   "outputs": [],
   "source": [
    "shuffled_labels = bta.sample(with_replacement=False).column('Group')"
   ]
  },
  {
   "cell_type": "code",
   "execution_count": 60,
   "metadata": {},
   "outputs": [
    {
     "data": {
      "text/html": [
       "<table border=\"1\" class=\"dataframe\">\n",
       "    <thead>\n",
       "        <tr>\n",
       "            <th>Group</th> <th>Result</th> <th>Shuffled Label</th>\n",
       "        </tr>\n",
       "    </thead>\n",
       "    <tbody>\n",
       "        <tr>\n",
       "            <td>Control</td> <td>1     </td> <td>Treatment     </td>\n",
       "        </tr>\n",
       "        <tr>\n",
       "            <td>Control</td> <td>1     </td> <td>Control       </td>\n",
       "        </tr>\n",
       "        <tr>\n",
       "            <td>Control</td> <td>0     </td> <td>Treatment     </td>\n",
       "        </tr>\n",
       "        <tr>\n",
       "            <td>Control</td> <td>0     </td> <td>Treatment     </td>\n",
       "        </tr>\n",
       "        <tr>\n",
       "            <td>Control</td> <td>0     </td> <td>Control       </td>\n",
       "        </tr>\n",
       "        <tr>\n",
       "            <td>Control</td> <td>0     </td> <td>Treatment     </td>\n",
       "        </tr>\n",
       "        <tr>\n",
       "            <td>Control</td> <td>0     </td> <td>Treatment     </td>\n",
       "        </tr>\n",
       "        <tr>\n",
       "            <td>Control</td> <td>0     </td> <td>Treatment     </td>\n",
       "        </tr>\n",
       "        <tr>\n",
       "            <td>Control</td> <td>0     </td> <td>Control       </td>\n",
       "        </tr>\n",
       "        <tr>\n",
       "            <td>Control</td> <td>0     </td> <td>Control       </td>\n",
       "        </tr>\n",
       "    </tbody>\n",
       "</table>\n",
       "<p>... (21 rows omitted)</p>"
      ],
      "text/plain": [
       "Group   | Result | Shuffled Label\n",
       "Control | 1      | Treatment\n",
       "Control | 1      | Control\n",
       "Control | 0      | Treatment\n",
       "Control | 0      | Treatment\n",
       "Control | 0      | Control\n",
       "Control | 0      | Treatment\n",
       "Control | 0      | Treatment\n",
       "Control | 0      | Treatment\n",
       "Control | 0      | Control\n",
       "Control | 0      | Control\n",
       "... (21 rows omitted)"
      ]
     },
     "execution_count": 60,
     "metadata": {},
     "output_type": "execute_result"
    }
   ],
   "source": [
    "bta_with_shuffled_labels = bta.with_column('Shuffled Label', shuffled_labels)\n",
    "bta_with_shuffled_labels"
   ]
  },
  {
   "cell_type": "code",
   "execution_count": 61,
   "metadata": {},
   "outputs": [
    {
     "data": {
      "text/plain": [
       "0.08750000000000002"
      ]
     },
     "execution_count": 61,
     "metadata": {},
     "output_type": "execute_result"
    }
   ],
   "source": [
    "distance(bta_with_shuffled_labels, 'Shuffled Label')"
   ]
  },
  {
   "cell_type": "code",
   "execution_count": 62,
   "metadata": {},
   "outputs": [
    {
     "data": {
      "text/plain": [
       "0.475"
      ]
     },
     "execution_count": 62,
     "metadata": {},
     "output_type": "execute_result"
    }
   ],
   "source": [
    "distance(bta_with_shuffled_labels, 'Group')"
   ]
  },
  {
   "cell_type": "code",
   "execution_count": 63,
   "metadata": {},
   "outputs": [],
   "source": [
    "def one_simulated_distance():\n",
    "    shuffled_labels = bta.sample(with_replacement=False).column('Group')\n",
    "    shuffled_table = bta.select('Result').with_column('Shuffled Label', shuffled_labels)\n",
    "    return distance(shuffled_table, 'Shuffled Label')"
   ]
  },
  {
   "cell_type": "code",
   "execution_count": 65,
   "metadata": {},
   "outputs": [],
   "source": [
    "distances = make_array()\n",
    "\n",
    "repetitions = 20000\n",
    "for i in np.arange(repetitions):\n",
    "    new_distance = one_simulated_distance()\n",
    "    distances = np.append(distances, new_distance)"
   ]
  },
  {
   "cell_type": "code",
   "execution_count": 66,
   "metadata": {},
   "outputs": [
    {
     "name": "stdout",
     "output_type": "stream",
     "text": [
      "Observed Distance:  0.475\n"
     ]
    },
    {
     "data": {
      "image/png": "[encoded data removed]",
      "text/plain": [
       "<Figure size 600x400 with 1 Axes>"
      ]
     },
     "metadata": {},
     "output_type": "display_data"
    }
   ],
   "source": [
    "Table().with_column('Distance', distances).hist(bins = np.arange(0, 0.7, 0.1), left_end = observed_distance)\n",
    "plots.ylim(-0.1, 5.5)\n",
    "plots.scatter(observed_distance, 0, color='red', s=40, zorder=3)\n",
    "plots.title('Prediction Under the Null Hypothesis')\n",
    "print('Observed Distance: ', observed_distance)"
   ]
  },
  {
   "cell_type": "code",
   "execution_count": 67,
   "metadata": {},
   "outputs": [
    {
     "name": "stdout",
     "output_type": "stream",
     "text": [
      "Empirical P-value:  0.0094\n"
     ]
    }
   ],
   "source": [
    "empirical_p = np.count_nonzero(distances >= observed_distance) / repetitions\n",
    "print('Empirical P-value: ', empirical_p)"
   ]
  },
  {
   "cell_type": "markdown",
   "metadata": {},
   "source": [
    "### 3. Deflategate"
   ]
  },
  {
   "cell_type": "code",
   "execution_count": 68,
   "metadata": {},
   "outputs": [],
   "source": [
    "from datascience import *\n",
    "%matplotlib inline\n",
    "\n",
    "import matplotlib.pyplot as plots\n",
    "plots.style.use('fivethirtyeight')\n",
    "import numpy as np"
   ]
  },
  {
   "cell_type": "code",
   "execution_count": null,
   "metadata": {},
   "outputs": [],
   "source": []
  }
 ],
 "metadata": {
  "kernelspec": {
   "display_name": "Python 3.10.7 64-bit",
   "language": "python",
   "name": "python3"
  },
  "language_info": {
   "codemirror_mode": {
    "name": "ipython",
    "version": 3
   },
   "file_extension": ".py",
   "mimetype": "text/x-python",
   "name": "python",
   "nbconvert_exporter": "python",
   "pygments_lexer": "ipython3",
   "version": "3.10.7"
  },
  "orig_nbformat": 4,
  "vscode": {
   "interpreter": {
    "hash": "99d2c5b65e81850156af989b34f3e04c8706a601ce17dace07ed2c96aed14d9a"
   }
  }
 },
 "nbformat": 4,
 "nbformat_minor": 2
}
