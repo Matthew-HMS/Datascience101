{
 "cells": [
  {
   "cell_type": "code",
   "execution_count": 1,
   "metadata": {},
   "outputs": [],
   "source": [
    "from datascience import *\n",
    "import numpy as np\n",
    "import matplotlib\n",
    "matplotlib.use('Agg')\n",
    "%matplotlib inline\n",
    "import matplotlib.pyplot as plt\n",
    "plt.style.use('fivethirtyeight')"
   ]
  },
  {
   "cell_type": "code",
   "execution_count": 2,
   "metadata": {},
   "outputs": [
    {
     "data": {
      "text/html": [
       "<table border=\"1\" class=\"dataframe\">\n",
       "    <thead>\n",
       "        <tr>\n",
       "            <th>學校代碼</th> <th>學校名稱</th> <th>日間∕進修別</th> <th>等級別</th> <th>總計</th> <th>男生計</th> <th>女生計</th> <th>一年級男生</th> <th>一年級女生</th> <th>二年級男生</th> <th>二年級女生</th> <th>三年級男生</th> <th>三年級女生</th> <th>四年級男生</th> <th>四年級女生</th> <th>五年級男生</th> <th>五年級女生</th> <th>六年級男生</th> <th>六年級女生</th> <th>七年級男生</th> <th>七年級女生</th> <th>延修生男生</th> <th>延修生女生</th> <th>縣市名稱</th> <th>體系別</th>\n",
       "        </tr>\n",
       "    </thead>\n",
       "    <tbody>\n",
       "        <tr>\n",
       "            <td>1   </td> <td>國立政治大學</td> <td>D 日   </td> <td>D 博士 </td> <td>948  </td> <td>537  </td> <td>411  </td> <td>88   </td> <td>67   </td> <td>81   </td> <td>62   </td> <td>86   </td> <td>71   </td> <td>79   </td> <td>62   </td> <td>71   </td> <td>57   </td> <td>71   </td> <td>40   </td> <td>61   </td> <td>52   </td> <td>-    </td> <td>-    </td> <td>30 臺北市</td> <td>1 一般</td>\n",
       "        </tr>\n",
       "        <tr>\n",
       "            <td>1   </td> <td>國立政治大學</td> <td>D 日   </td> <td>M 碩士 </td> <td>3,974</td> <td>1,828</td> <td>2,146</td> <td>624  </td> <td>729  </td> <td>591  </td> <td>744  </td> <td>370  </td> <td>409  </td> <td>240  </td> <td>264  </td> <td>3    </td> <td>-    </td> <td>-    </td> <td>-    </td> <td>-    </td> <td>-    </td> <td>-    </td> <td>-    </td> <td>30 臺北市</td> <td>1 一般</td>\n",
       "        </tr>\n",
       "        <tr>\n",
       "            <td>1   </td> <td>國立政治大學</td> <td>D 日   </td> <td>B 學士 </td> <td>9,556</td> <td>3,920</td> <td>5,636</td> <td>900  </td> <td>1,303</td> <td>920  </td> <td>1,270</td> <td>900  </td> <td>1,313</td> <td>911  </td> <td>1,327</td> <td>-    </td> <td>-    </td> <td>-    </td> <td>-    </td> <td>-    </td> <td>-    </td> <td>289  </td> <td>423  </td> <td>30 臺北市</td> <td>1 一般</td>\n",
       "        </tr>\n",
       "        <tr>\n",
       "            <td>1   </td> <td>國立政治大學</td> <td>N 職   </td> <td>M 碩士 </td> <td>1,632</td> <td>779  </td> <td>853  </td> <td>227  </td> <td>294  </td> <td>239  </td> <td>214  </td> <td>152  </td> <td>191  </td> <td>88   </td> <td>89   </td> <td>72   </td> <td>65   </td> <td>1    </td> <td>-    </td> <td>-    </td> <td>-    </td> <td>-    </td> <td>-    </td> <td>30 臺北市</td> <td>1 一般</td>\n",
       "        </tr>\n",
       "        <tr>\n",
       "            <td>2   </td> <td>國立清華大學</td> <td>D 日   </td> <td>D 博士 </td> <td>1,663</td> <td>1,192</td> <td>471  </td> <td>248  </td> <td>114  </td> <td>193  </td> <td>77   </td> <td>205  </td> <td>76   </td> <td>174  </td> <td>72   </td> <td>112  </td> <td>47   </td> <td>95   </td> <td>31   </td> <td>165  </td> <td>54   </td> <td>-    </td> <td>-    </td> <td>18 新竹市</td> <td>1 一般</td>\n",
       "        </tr>\n",
       "        <tr>\n",
       "            <td>2   </td> <td>國立清華大學</td> <td>D 日   </td> <td>M 碩士 </td> <td>5,570</td> <td>3,372</td> <td>2,198</td> <td>1,430</td> <td>905  </td> <td>1,313</td> <td>731  </td> <td>404  </td> <td>292  </td> <td>216  </td> <td>222  </td> <td>9    </td> <td>26   </td> <td>-    </td> <td>21   </td> <td>-    </td> <td>1    </td> <td>-    </td> <td>-    </td> <td>18 新竹市</td> <td>1 一般</td>\n",
       "        </tr>\n",
       "        <tr>\n",
       "            <td>2   </td> <td>國立清華大學</td> <td>D 日   </td> <td>B 學士 </td> <td>8,888</td> <td>4,883</td> <td>4,005</td> <td>1,267</td> <td>999  </td> <td>1,153</td> <td>1,016</td> <td>1,108</td> <td>942  </td> <td>1,074</td> <td>865  </td> <td>-    </td> <td>-    </td> <td>-    </td> <td>-    </td> <td>-    </td> <td>-    </td> <td>281  </td> <td>183  </td> <td>18 新竹市</td> <td>1 一般</td>\n",
       "        </tr>\n",
       "        <tr>\n",
       "            <td>2   </td> <td>國立清華大學</td> <td>D 日   </td> <td>X 4+X</td> <td>1    </td> <td>1    </td> <td>-    </td> <td>-    </td> <td>-    </td> <td>-    </td> <td>-    </td> <td>-    </td> <td>-    </td> <td>-    </td> <td>-    </td> <td>-    </td> <td>-    </td> <td>-    </td> <td>-    </td> <td>-    </td> <td>-    </td> <td>1    </td> <td>-    </td> <td>18 新竹市</td> <td>1 一般</td>\n",
       "        </tr>\n",
       "        <tr>\n",
       "            <td>2   </td> <td>國立清華大學</td> <td>N 職   </td> <td>M 碩士 </td> <td>1,366</td> <td>507  </td> <td>859  </td> <td>219  </td> <td>264  </td> <td>161  </td> <td>269  </td> <td>51   </td> <td>129  </td> <td>25   </td> <td>73   </td> <td>27   </td> <td>44   </td> <td>8    </td> <td>36   </td> <td>16   </td> <td>44   </td> <td>-    </td> <td>-    </td> <td>18 新竹市</td> <td>1 一般</td>\n",
       "        </tr>\n",
       "        <tr>\n",
       "            <td>3   </td> <td>國立臺灣大學</td> <td>D 日   </td> <td>D 博士 </td> <td>3,666</td> <td>2,510</td> <td>1,156</td> <td>516  </td> <td>261  </td> <td>459  </td> <td>199  </td> <td>400  </td> <td>166  </td> <td>298  </td> <td>158  </td> <td>283  </td> <td>132  </td> <td>229  </td> <td>97   </td> <td>325  </td> <td>143  </td> <td>-    </td> <td>-    </td> <td>30 臺北市</td> <td>1 一般</td>\n",
       "        </tr>\n",
       "    </tbody>\n",
       "</table>\n",
       "<p>... (781 rows omitted)</p>"
      ],
      "text/plain": [
       "學校代碼 | 學校名稱   | 日間∕進修別 | 等級別   | 總計    | 男生計   | 女生計   | 一年級男生 | 一年級女生 | 二年級男生 | 二年級女生 | 三年級男生 | 三年級女生 | 四年級男生 | 四年級女生 | 五年級男生 | 五年級女生 | 六年級男生 | 六年級女生 | 七年級男生 | 七年級女生 | 延修生男生 | 延修生女生 | 縣市名稱   | 體系別\n",
       "1    | 國立政治大學 | D 日    | D 博士  | 948   | 537   | 411   | 88    | 67    | 81    | 62    | 86    | 71    | 79    | 62    | 71    | 57    | 71    | 40    | 61    | 52    | -     | -     | 30 臺北市 | 1 一般\n",
       "1    | 國立政治大學 | D 日    | M 碩士  | 3,974 | 1,828 | 2,146 | 624   | 729   | 591   | 744   | 370   | 409   | 240   | 264   | 3     | -     | -     | -     | -     | -     | -     | -     | 30 臺北市 | 1 一般\n",
       "1    | 國立政治大學 | D 日    | B 學士  | 9,556 | 3,920 | 5,636 | 900   | 1,303 | 920   | 1,270 | 900   | 1,313 | 911   | 1,327 | -     | -     | -     | -     | -     | -     | 289   | 423   | 30 臺北市 | 1 一般\n",
       "1    | 國立政治大學 | N 職    | M 碩士  | 1,632 | 779   | 853   | 227   | 294   | 239   | 214   | 152   | 191   | 88    | 89    | 72    | 65    | 1     | -     | -     | -     | -     | -     | 30 臺北市 | 1 一般\n",
       "2    | 國立清華大學 | D 日    | D 博士  | 1,663 | 1,192 | 471   | 248   | 114   | 193   | 77    | 205   | 76    | 174   | 72    | 112   | 47    | 95    | 31    | 165   | 54    | -     | -     | 18 新竹市 | 1 一般\n",
       "2    | 國立清華大學 | D 日    | M 碩士  | 5,570 | 3,372 | 2,198 | 1,430 | 905   | 1,313 | 731   | 404   | 292   | 216   | 222   | 9     | 26    | -     | 21    | -     | 1     | -     | -     | 18 新竹市 | 1 一般\n",
       "2    | 國立清華大學 | D 日    | B 學士  | 8,888 | 4,883 | 4,005 | 1,267 | 999   | 1,153 | 1,016 | 1,108 | 942   | 1,074 | 865   | -     | -     | -     | -     | -     | -     | 281   | 183   | 18 新竹市 | 1 一般\n",
       "2    | 國立清華大學 | D 日    | X 4+X | 1     | 1     | -     | -     | -     | -     | -     | -     | -     | -     | -     | -     | -     | -     | -     | -     | -     | 1     | -     | 18 新竹市 | 1 一般\n",
       "2    | 國立清華大學 | N 職    | M 碩士  | 1,366 | 507   | 859   | 219   | 264   | 161   | 269   | 51    | 129   | 25    | 73    | 27    | 44    | 8     | 36    | 16    | 44    | -     | -     | 18 新竹市 | 1 一般\n",
       "3    | 國立臺灣大學 | D 日    | D 博士  | 3,666 | 2,510 | 1,156 | 516   | 261   | 459   | 199   | 400   | 166   | 298   | 158   | 283   | 132   | 229   | 97    | 325   | 143   | -     | -     | 30 臺北市 | 1 一般\n",
       "... (781 rows omitted)"
      ]
     },
     "execution_count": 2,
     "metadata": {},
     "output_type": "execute_result"
    }
   ],
   "source": [
    "students = Table().read_table('https://raw.githubusercontent.com/Matthew-HMS/Datascience101/master/110_student.csv?token=GHSAT0AAAAAABZKB4YOWFU4WOR5B7YHKKROY4NUPNQ')\n",
    "students"
   ]
  }
 ],
 "metadata": {
  "kernelspec": {
   "display_name": "Python 3.10.7 64-bit",
   "language": "python",
   "name": "python3"
  },
  "language_info": {
   "codemirror_mode": {
    "name": "ipython",
    "version": 3
   },
   "file_extension": ".py",
   "mimetype": "text/x-python",
   "name": "python",
   "nbconvert_exporter": "python",
   "pygments_lexer": "ipython3",
   "version": "3.10.7"
  },
  "orig_nbformat": 4,
  "vscode": {
   "interpreter": {
    "hash": "99d2c5b65e81850156af989b34f3e04c8706a601ce17dace07ed2c96aed14d9a"
   }
  }
 },
 "nbformat": 4,
 "nbformat_minor": 2
}
