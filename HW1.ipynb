{
 "cells": [
  {
   "cell_type": "code",
   "execution_count": null,
   "metadata": {},
   "outputs": [],
   "source": [
    "from datascience import *\n",
    "import numpy as np\n",
    "np.set_printoptions(threshold=50)\n",
    "\n",
    "url = 'https://raw.githubusercontent.com/yu-to-chen/data-science/master/assets/data/group_summary_table_20220929.csv'\n",
    "student = Table.read_table(url)\n",
    "student\n",
    "\n",
    "import matplotlib\n",
    "print([f for f in matplotlib.font_manager.fontManager.ttflist if 'Heiti' in f.name])\n",
    "matplotlib.rcParams['font.family'] = ['Heiti TC']\n",
    "\n",
    "%matplotlib inline\n",
    "import matplotlib.pyplot as plots\n",
    "plots.style.use('fivethirtyeight')\n"
   ]
  }
 ],
 "metadata": {
  "kernelspec": {
   "display_name": "Python 3.9.6 64-bit",
   "language": "python",
   "name": "python3"
  },
  "language_info": {
   "name": "python",
   "version": "3.9.6"
  },
  "orig_nbformat": 4,
  "vscode": {
   "interpreter": {
    "hash": "a65ab8ed40a82036885d05f93723ec9c2b91e509340366b1d5128ec98f6cb4c1"
   }
  }
 },
 "nbformat": 4,
 "nbformat_minor": 2
}
