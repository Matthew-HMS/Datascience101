{
  "cells": [
    {
      "cell_type": "code",
      "execution_count": 2,
      "metadata": {
        "colab": {
          "base_uri": "https://localhost:8080/"
        },
        "id": "0iQz3-0bvWcR",
        "outputId": "a38d50d7-5556-4c4c-e43a-11dd2965f99d"
      },
      "outputs": [
        {
          "name": "stdout",
          "output_type": "stream",
          "text": [
            "True\n"
          ]
        }
      ],
      "source": [
        "import string\n",
        "import re\n",
        "\n",
        "def Is_palindrome(s):\n",
        "  #resolve reverse string\n",
        "  reverse_s = s[::-1]\n",
        "  reverse_s = re.sub(r'[{},\" \"]'.format(string.punctuation), '', reverse_s)\n",
        "  reverse_s = reverse_s.lower()\n",
        "  #resolve original string\n",
        "  s = re.sub(r'[{},\" \"]'.format(string.punctuation), '', s)\n",
        "  s = s.lower()\n",
        "\n",
        "  if s == reverse_s:\n",
        "    return True\n",
        "  else:\n",
        "    return False\n",
        "\n",
        "text = input(\"Please input a word : \")\n",
        "print(Is_palindrome(text))"
      ]
    },
    {
      "cell_type": "code",
      "execution_count": 3,
      "metadata": {
        "colab": {
          "base_uri": "https://localhost:8080/"
        },
        "id": "ExX1NJYB5kKD",
        "outputId": "01855ed1-0e7b-4e9f-d2e9-8ba918c03bf8"
      },
      "outputs": [
        {
          "name": "stdout",
          "output_type": "stream",
          "text": [
            "\n",
            "Simulate 20 trials of 1000 spins each\n",
            "Exp. return for My Roulette = 5.12%\n",
            "\n",
            "Simulate 20 trials of 10000 spins each\n",
            "Exp. return for My Roulette = 0.836%\n",
            "\n",
            "Simulate 20 trials of 100000 spins each\n",
            "Exp. return for My Roulette = 0.3122%\n",
            "\n",
            "Simulate 20 trials of 1000000 spins each\n",
            "Exp. return for My Roulette = 0.0474%\n"
          ]
        }
      ],
      "source": [
        "import random\n",
        "\n",
        "class MyRoulette():\n",
        "  def __init__(self):\n",
        "      self.pockets = []\n",
        "      for i in range(1, 37):\n",
        "          self.pockets.append(i)\n",
        "      self.ball = None\n",
        "      self.pocketOdds = len(self.pockets) - 1\n",
        "  def spin(self):\n",
        "      self.ball = random.choice(self.pockets)\n",
        "  def betPocket(self, pocket, amt):\n",
        "      if str(pocket) == str(self.ball):\n",
        "          return amt*self.pocketOdds\n",
        "      else: return -amt\n",
        "  def __str__(self):\n",
        "      return 'My Roulette'\n",
        "\n",
        "def playRoulette(game, numSpins, pocket, bet, toPrint):\n",
        "  totPocket = 0\n",
        "  for i in range(numSpins):\n",
        "      game.spin()\n",
        "      totPocket += game.betPocket(pocket, bet)\n",
        "  if toPrint:\n",
        "      print(numSpins, 'spins of', game)\n",
        "      print('Expected return betting', pocket, '=',\\\n",
        "            str(100*totPocket/numSpins) + '%\\n')\n",
        "  return (totPocket/numSpins)\n",
        "\n",
        "def findPocketReturn(game, numTrials, trialSize, toPrint, pocket, bet):\n",
        "  pocketReturns = []\n",
        "  for t in range(numTrials):\n",
        "      trialVals = playRoulette(game, trialSize, pocket, bet, toPrint)\n",
        "      pocketReturns.append(trialVals)\n",
        "  return pocketReturns\n",
        "\n",
        "# Monte Carlo simulation begins.\n",
        "random.seed(0)\n",
        "numTrials = 20\n",
        "# Instantiate the Roulette game. \n",
        "game = MyRoulette()\n",
        "myPocket = 7\n",
        "myBet = 1\n",
        "for numSpins in (1000, 10000, 100000, 1000000):\n",
        "  \n",
        "  print('\\nSimulate', numTrials, 'trials of', numSpins, 'spins each')\n",
        "  # The list of my simulation results.\n",
        "  pocketReturns = findPocketReturn(game, numTrials, numSpins, False, myPocket, myBet)\n",
        "  # Please implement the following one-liner, the expected return.\n",
        "  expReturn = sum(pocketReturns) * 100/numTrials\n",
        "  print('Exp. return for', game, '=', str(round(expReturn, 4)) + '%')\n"
      ]
    }
  ],
  "metadata": {
    "colab": {
      "collapsed_sections": [],
      "provenance": []
    },
    "kernelspec": {
      "display_name": "Python 3.10.7 64-bit",
      "language": "python",
      "name": "python3"
    },
    "language_info": {
      "codemirror_mode": {
        "name": "ipython",
        "version": 3
      },
      "file_extension": ".py",
      "mimetype": "text/x-python",
      "name": "python",
      "nbconvert_exporter": "python",
      "pygments_lexer": "ipython3",
      "version": "3.10.7"
    },
    "vscode": {
      "interpreter": {
        "hash": "99d2c5b65e81850156af989b34f3e04c8706a601ce17dace07ed2c96aed14d9a"
      }
    }
  },
  "nbformat": 4,
  "nbformat_minor": 0
}
