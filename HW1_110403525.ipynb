{
  "cells": [
    {
      "cell_type": "markdown",
      "metadata": {
        "id": "x0kOI4cXDK-3"
      },
      "source": [
        "## 1. Please write code in Colab to read the table and report its size (# of columns and rows) [20pts]\n"
      ]
    },
    {
      "cell_type": "code",
      "execution_count": 13,
      "metadata": {
        "id": "iuJ3eLDjwpC2"
      },
      "outputs": [],
      "source": [
        "from datascience import *\n",
        "import numpy as np\n",
        "np.set_printoptions(threshold=50)\n",
        "\n",
        "url = 'https://raw.githubusercontent.com/yu-to-chen/data-science/master/assets/data/group_summary_table_20220929.csv'\n",
        "student = Table.read_table(url)\n",
        "\n",
        "import matplotlib\n",
        "\n",
        "%matplotlib inline\n",
        "import matplotlib.pyplot as plots\n",
        "plots.style.use('fivethirtyeight')\n",
        "\n",
        "\n",
        "matplotlib.rc('font', family='Taipei Sans TC Beta')"
      ]
    },
    {
      "cell_type": "code",
      "execution_count": 3,
      "metadata": {
        "colab": {
          "base_uri": "https://localhost:8080/"
        },
        "id": "ewmtfVZICh7h",
        "outputId": "c19daf6b-753b-493d-e582-4379dc58c14e"
      },
      "outputs": [
        {
          "data": {
            "text/plain": [
              "8"
            ]
          },
          "execution_count": 3,
          "metadata": {},
          "output_type": "execute_result"
        }
      ],
      "source": [
        "#column\n",
        "student.num_columns"
      ]
    },
    {
      "cell_type": "code",
      "execution_count": 4,
      "metadata": {
        "colab": {
          "base_uri": "https://localhost:8080/"
        },
        "id": "gVh77g8bCz57",
        "outputId": "650ec772-2678-4226-98b3-3a8d6e8c532a"
      },
      "outputs": [
        {
          "data": {
            "text/plain": [
              "49"
            ]
          },
          "execution_count": 4,
          "metadata": {},
          "output_type": "execute_result"
        }
      ],
      "source": [
        "#row\n",
        "student.num_rows"
      ]
    },
    {
      "cell_type": "markdown",
      "metadata": {
        "id": "5DmuP-yRDvRS"
      },
      "source": [
        "## 2. Which row looks like an anomaly and should be removed?  Why?  \n",
        "* Please explain. [10 points]\n",
        "* Please write code in Colab to remove it and return an updated table. [10 points]\n"
      ]
    },
    {
      "cell_type": "markdown",
      "metadata": {
        "id": "D8MQgFHqEWiQ"
      },
      "source": [
        "### Ans: I think row 5 should be removed because its column in 離校院別名稱 is 文學院中國文學系 (not a college), which is different from the others. Therefore, the data is a anomaly, it is not useful in data analysis and even will affect the result's accuracy.\n",
        "\n",
        "\n"
      ]
    },
    {
      "cell_type": "code",
      "execution_count": 5,
      "metadata": {
        "colab": {
          "base_uri": "https://localhost:8080/",
          "height": 392
        },
        "id": "PVo7XLq6C7xd",
        "outputId": "507ba74d-7272-439c-c947-dde576dbd521"
      },
      "outputs": [
        {
          "data": {
            "text/html": [
              "<table border=\"1\" class=\"dataframe\">\n",
              "    <thead>\n",
              "        <tr>\n",
              "            <th>性別</th> <th>入學管道</th> <th>離校院別名稱(中)</th> <th>num_students</th> <th>credits_mean</th> <th>credits_std</th> <th>gpa_mean</th> <th>gpa_std</th>\n",
              "        </tr>\n",
              "    </thead>\n",
              "    <tbody>\n",
              "        <tr>\n",
              "            <td>女   </td> <td>學士班(指考分發/聯考)</td> <td>地球科學學院   </td> <td>95          </td> <td>152.642     </td> <td>15.29      </td> <td>78.1504 </td> <td>7.17645</td>\n",
              "        </tr>\n",
              "        <tr>\n",
              "            <td>女   </td> <td>學士班(指考分發/聯考)</td> <td>客家學院     </td> <td>17          </td> <td>151.824     </td> <td>16.7639    </td> <td>80.1531 </td> <td>6.12428</td>\n",
              "        </tr>\n",
              "        <tr>\n",
              "            <td>女   </td> <td>學士班(指考分發/聯考)</td> <td>工學院      </td> <td>174         </td> <td>151.075     </td> <td>16.5397    </td> <td>78.8585 </td> <td>6.41941</td>\n",
              "        </tr>\n",
              "        <tr>\n",
              "            <td>女   </td> <td>學士班(指考分發/聯考)</td> <td>文學院      </td> <td>686         </td> <td>154.219     </td> <td>20.8801    </td> <td>79.4352 </td> <td>5.83358</td>\n",
              "        </tr>\n",
              "        <tr>\n",
              "            <td>女   </td> <td>學士班(指考分發/聯考)</td> <td>理學院      </td> <td>191         </td> <td>149.953     </td> <td>13.3548    </td> <td>77.0528 </td> <td>6.97312</td>\n",
              "        </tr>\n",
              "        <tr>\n",
              "            <td>女   </td> <td>學士班(指考分發/聯考)</td> <td>生醫理工學院   </td> <td>76          </td> <td>151.961     </td> <td>17.8044    </td> <td>78.398  </td> <td>7.0676 </td>\n",
              "        </tr>\n",
              "        <tr>\n",
              "            <td>女   </td> <td>學士班(指考分發/聯考)</td> <td>管理學院     </td> <td>756         </td> <td>152.718     </td> <td>14.3223    </td> <td>78.5168 </td> <td>6.68581</td>\n",
              "        </tr>\n",
              "        <tr>\n",
              "            <td>女   </td> <td>學士班(指考分發/聯考)</td> <td>資訊電機學院   </td> <td>119         </td> <td>150.126     </td> <td>14.8715    </td> <td>81.3947 </td> <td>6.56094</td>\n",
              "        </tr>\n",
              "        <tr>\n",
              "            <td>女   </td> <td>學士班申請入學     </td> <td>地球科學學院   </td> <td>134         </td> <td>155.507     </td> <td>15.7703    </td> <td>79.731  </td> <td>7.3229 </td>\n",
              "        </tr>\n",
              "        <tr>\n",
              "            <td>女   </td> <td>學士班申請入學     </td> <td>客家學院     </td> <td>31          </td> <td>161.677     </td> <td>32.0639    </td> <td>83.1672 </td> <td>5.32421</td>\n",
              "        </tr>\n",
              "    </tbody>\n",
              "</table>\n",
              "<p>... (38 rows omitted)</p>"
            ],
            "text/plain": [
              "性別   | 入學管道         | 離校院別名稱(中) | num_students | credits_mean | credits_std | gpa_mean | gpa_std\n",
              "女    | 學士班(指考分發/聯考) | 地球科學學院    | 95           | 152.642      | 15.29       | 78.1504  | 7.17645\n",
              "女    | 學士班(指考分發/聯考) | 客家學院      | 17           | 151.824      | 16.7639     | 80.1531  | 6.12428\n",
              "女    | 學士班(指考分發/聯考) | 工學院       | 174          | 151.075      | 16.5397     | 78.8585  | 6.41941\n",
              "女    | 學士班(指考分發/聯考) | 文學院       | 686          | 154.219      | 20.8801     | 79.4352  | 5.83358\n",
              "女    | 學士班(指考分發/聯考) | 理學院       | 191          | 149.953      | 13.3548     | 77.0528  | 6.97312\n",
              "女    | 學士班(指考分發/聯考) | 生醫理工學院    | 76           | 151.961      | 17.8044     | 78.398   | 7.0676\n",
              "女    | 學士班(指考分發/聯考) | 管理學院      | 756          | 152.718      | 14.3223     | 78.5168  | 6.68581\n",
              "女    | 學士班(指考分發/聯考) | 資訊電機學院    | 119          | 150.126      | 14.8715     | 81.3947  | 6.56094\n",
              "女    | 學士班申請入學      | 地球科學學院    | 134          | 155.507      | 15.7703     | 79.731   | 7.3229\n",
              "女    | 學士班申請入學      | 客家學院      | 31           | 161.677      | 32.0639     | 83.1672  | 5.32421\n",
              "... (38 rows omitted)"
            ]
          },
          "execution_count": 5,
          "metadata": {},
          "output_type": "execute_result"
        }
      ],
      "source": [
        "fix_student = student.where('離校院別名稱(中)', are.not_equal_to('文學院中國文學系'))\n",
        "fix_student"
      ]
    },
    {
      "cell_type": "markdown",
      "metadata": {
        "id": "NBqqRNcOWVe-"
      },
      "source": [
        "## 3. Are there more girls than boys?\n",
        "* Please use ‘group’ to do it. [10 points]\n",
        "* What % of students are female? [10 points]\n"
      ]
    },
    {
      "cell_type": "code",
      "execution_count": 6,
      "metadata": {
        "colab": {
          "base_uri": "https://localhost:8080/",
          "height": 112
        },
        "id": "PNYh7dbmhfuF",
        "outputId": "1348bd26-c988-4afd-e7d9-518ab4261aea"
      },
      "outputs": [
        {
          "data": {
            "text/html": [
              "<table border=\"1\" class=\"dataframe\">\n",
              "    <thead>\n",
              "        <tr>\n",
              "            <th>性別</th> <th>count</th>\n",
              "        </tr>\n",
              "    </thead>\n",
              "    <tbody>\n",
              "        <tr>\n",
              "            <td>女   </td> <td>24   </td>\n",
              "        </tr>\n",
              "        <tr>\n",
              "            <td>男   </td> <td>24   </td>\n",
              "        </tr>\n",
              "    </tbody>\n",
              "</table>"
            ],
            "text/plain": [
              "性別   | count\n",
              "女    | 24\n",
              "男    | 24"
            ]
          },
          "execution_count": 6,
          "metadata": {},
          "output_type": "execute_result"
        }
      ],
      "source": [
        "sex_group_fix_student = fix_student.group(\"性別\")\n",
        "sex_group_fix_student"
      ]
    },
    {
      "cell_type": "markdown",
      "metadata": {
        "id": "g2JSp5RLcyR6"
      },
      "source": [
        "### There are 24 girls and 24 boys. Therefore, the number of girls is equal to boys."
      ]
    },
    {
      "cell_type": "code",
      "execution_count": 7,
      "metadata": {
        "colab": {
          "base_uri": "https://localhost:8080/",
          "height": 81
        },
        "id": "xH7P_3dQdiD5",
        "outputId": "9fc87811-8ac1-42a2-f714-7d8699bf6941"
      },
      "outputs": [
        {
          "data": {
            "text/html": [
              "<table border=\"1\" class=\"dataframe\">\n",
              "    <thead>\n",
              "        <tr>\n",
              "            <th>Female Percentage</th>\n",
              "        </tr>\n",
              "    </thead>\n",
              "    <tbody>\n",
              "        <tr>\n",
              "            <td>50.00%           </td>\n",
              "        </tr>\n",
              "    </tbody>\n",
              "</table>"
            ],
            "text/plain": [
              "Female Percentage\n",
              "50.00%"
            ]
          },
          "execution_count": 7,
          "metadata": {},
          "output_type": "execute_result"
        }
      ],
      "source": [
        "Table().with_column(\"Female Percentage\", sex_group_fix_student.where(\"性別\", are.equal_to(\"女\")).column(1)/fix_student.num_rows).set_format(\"Female Percentage\", PercentFormatter)"
      ]
    },
    {
      "cell_type": "markdown",
      "metadata": {
        "id": "aj_J20EjWwVv"
      },
      "source": [
        "## 4. Which college has the most graduates?\n",
        "* Please use ‘group’ to do it. [10 points]\n",
        "* Please plot a bar chart to show the distribution of # of graduates by college and sort it in descending order. [10 points]\n"
      ]
    },
    {
      "cell_type": "code",
      "execution_count": 8,
      "metadata": {
        "colab": {
          "base_uri": "https://localhost:8080/",
          "height": 300
        },
        "id": "L3Uw9AVpfXCJ",
        "outputId": "335458ac-fa12-49b9-bfe9-68903b838a87"
      },
      "outputs": [
        {
          "data": {
            "text/html": [
              "<table border=\"1\" class=\"dataframe\">\n",
              "    <thead>\n",
              "        <tr>\n",
              "            <th>離校院別名稱(中)</th> <th>num_students sum</th>\n",
              "        </tr>\n",
              "    </thead>\n",
              "    <tbody>\n",
              "        <tr>\n",
              "            <td>地球科學學院   </td> <td>849             </td>\n",
              "        </tr>\n",
              "        <tr>\n",
              "            <td>客家學院     </td> <td>88              </td>\n",
              "        </tr>\n",
              "        <tr>\n",
              "            <td>工學院      </td> <td>2217            </td>\n",
              "        </tr>\n",
              "        <tr>\n",
              "            <td>文學院      </td> <td>1212            </td>\n",
              "        </tr>\n",
              "        <tr>\n",
              "            <td>理學院      </td> <td>1653            </td>\n",
              "        </tr>\n",
              "        <tr>\n",
              "            <td>生醫理工學院   </td> <td>336             </td>\n",
              "        </tr>\n",
              "        <tr>\n",
              "            <td>管理學院     </td> <td>2542            </td>\n",
              "        </tr>\n",
              "        <tr>\n",
              "            <td>資訊電機學院   </td> <td>2045            </td>\n",
              "        </tr>\n",
              "    </tbody>\n",
              "</table>"
            ],
            "text/plain": [
              "離校院別名稱(中) | num_students sum\n",
              "地球科學學院    | 849\n",
              "客家學院      | 88\n",
              "工學院       | 2217\n",
              "文學院       | 1212\n",
              "理學院       | 1653\n",
              "生醫理工學院    | 336\n",
              "管理學院      | 2542\n",
              "資訊電機學院    | 2045"
            ]
          },
          "execution_count": 8,
          "metadata": {},
          "output_type": "execute_result"
        }
      ],
      "source": [
        "college_group_fix_student = fix_student.select(\"離校院別名稱(中)\", 'num_students').group(\"離校院別名稱(中)\",sum)\n",
        "college_group_fix_student"
      ]
    },
    {
      "cell_type": "code",
      "execution_count": 9,
      "metadata": {
        "colab": {
          "base_uri": "https://localhost:8080/",
          "height": 303
        },
        "id": "012lSbTf6R9f",
        "outputId": "55842e6b-8fe6-4ddd-d90d-445c1c3be1fd"
      },
      "outputs": [
        {
          "name": "stderr",
          "output_type": "stream",
          "text": [
            "findfont: Font family 'Taipei Sans TC Beta' not found.\n",
            "findfont: Font family 'Taipei Sans TC Beta' not found.\n",
            "findfont: Font family 'Taipei Sans TC Beta' not found.\n",
            "findfont: Font family 'Taipei Sans TC Beta' not found.\n",
            "findfont: Font family 'Taipei Sans TC Beta' not found.\n",
            "findfont: Font family 'Taipei Sans TC Beta' not found.\n",
            "findfont: Font family 'Taipei Sans TC Beta' not found.\n",
            "findfont: Font family 'Taipei Sans TC Beta' not found.\n",
            "findfont: Font family 'Taipei Sans TC Beta' not found.\n",
            "findfont: Font family 'Taipei Sans TC Beta' not found.\n",
            "findfont: Font family 'Taipei Sans TC Beta' not found.\n",
            "findfont: Font family 'Taipei Sans TC Beta' not found.\n",
            "findfont: Font family 'Taipei Sans TC Beta' not found.\n",
            "findfont: Font family 'Taipei Sans TC Beta' not found.\n",
            "findfont: Font family 'Taipei Sans TC Beta' not found.\n",
            "findfont: Font family 'Taipei Sans TC Beta' not found.\n",
            "findfont: Font family 'Taipei Sans TC Beta' not found.\n",
            "findfont: Font family 'Taipei Sans TC Beta' not found.\n",
            "c:\\Users\\Skywalker\\AppData\\Local\\Programs\\Python\\Python310\\lib\\site-packages\\IPython\\core\\events.py:89: UserWarning: Glyph 23458 (\\N{CJK UNIFIED IDEOGRAPH-5BA2}) missing from current font.\n",
            "  func(*args, **kwargs)\n",
            "c:\\Users\\Skywalker\\AppData\\Local\\Programs\\Python\\Python310\\lib\\site-packages\\IPython\\core\\events.py:89: UserWarning: Glyph 23478 (\\N{CJK UNIFIED IDEOGRAPH-5BB6}) missing from current font.\n",
            "  func(*args, **kwargs)\n",
            "c:\\Users\\Skywalker\\AppData\\Local\\Programs\\Python\\Python310\\lib\\site-packages\\IPython\\core\\events.py:89: UserWarning: Glyph 23416 (\\N{CJK UNIFIED IDEOGRAPH-5B78}) missing from current font.\n",
            "  func(*args, **kwargs)\n",
            "c:\\Users\\Skywalker\\AppData\\Local\\Programs\\Python\\Python310\\lib\\site-packages\\IPython\\core\\events.py:89: UserWarning: Glyph 38498 (\\N{CJK UNIFIED IDEOGRAPH-9662}) missing from current font.\n",
            "  func(*args, **kwargs)\n",
            "findfont: Font family 'Taipei Sans TC Beta' not found.\n",
            "c:\\Users\\Skywalker\\AppData\\Local\\Programs\\Python\\Python310\\lib\\site-packages\\IPython\\core\\events.py:89: UserWarning: Glyph 29983 (\\N{CJK UNIFIED IDEOGRAPH-751F}) missing from current font.\n",
            "  func(*args, **kwargs)\n",
            "c:\\Users\\Skywalker\\AppData\\Local\\Programs\\Python\\Python310\\lib\\site-packages\\IPython\\core\\events.py:89: UserWarning: Glyph 37291 (\\N{CJK UNIFIED IDEOGRAPH-91AB}) missing from current font.\n",
            "  func(*args, **kwargs)\n",
            "c:\\Users\\Skywalker\\AppData\\Local\\Programs\\Python\\Python310\\lib\\site-packages\\IPython\\core\\events.py:89: UserWarning: Glyph 29702 (\\N{CJK UNIFIED IDEOGRAPH-7406}) missing from current font.\n",
            "  func(*args, **kwargs)\n",
            "c:\\Users\\Skywalker\\AppData\\Local\\Programs\\Python\\Python310\\lib\\site-packages\\IPython\\core\\events.py:89: UserWarning: Glyph 24037 (\\N{CJK UNIFIED IDEOGRAPH-5DE5}) missing from current font.\n",
            "  func(*args, **kwargs)\n",
            "findfont: Font family 'Taipei Sans TC Beta' not found.\n",
            "c:\\Users\\Skywalker\\AppData\\Local\\Programs\\Python\\Python310\\lib\\site-packages\\IPython\\core\\events.py:89: UserWarning: Glyph 22320 (\\N{CJK UNIFIED IDEOGRAPH-5730}) missing from current font.\n",
            "  func(*args, **kwargs)\n",
            "c:\\Users\\Skywalker\\AppData\\Local\\Programs\\Python\\Python310\\lib\\site-packages\\IPython\\core\\events.py:89: UserWarning: Glyph 29699 (\\N{CJK UNIFIED IDEOGRAPH-7403}) missing from current font.\n",
            "  func(*args, **kwargs)\n",
            "c:\\Users\\Skywalker\\AppData\\Local\\Programs\\Python\\Python310\\lib\\site-packages\\IPython\\core\\events.py:89: UserWarning: Glyph 31185 (\\N{CJK UNIFIED IDEOGRAPH-79D1}) missing from current font.\n",
            "  func(*args, **kwargs)\n",
            "findfont: Font family 'Taipei Sans TC Beta' not found.\n",
            "c:\\Users\\Skywalker\\AppData\\Local\\Programs\\Python\\Python310\\lib\\site-packages\\IPython\\core\\events.py:89: UserWarning: Glyph 25991 (\\N{CJK UNIFIED IDEOGRAPH-6587}) missing from current font.\n",
            "  func(*args, **kwargs)\n",
            "findfont: Font family 'Taipei Sans TC Beta' not found.\n",
            "findfont: Font family 'Taipei Sans TC Beta' not found.\n",
            "c:\\Users\\Skywalker\\AppData\\Local\\Programs\\Python\\Python310\\lib\\site-packages\\IPython\\core\\events.py:89: UserWarning: Glyph 36039 (\\N{CJK UNIFIED IDEOGRAPH-8CC7}) missing from current font.\n",
            "  func(*args, **kwargs)\n",
            "c:\\Users\\Skywalker\\AppData\\Local\\Programs\\Python\\Python310\\lib\\site-packages\\IPython\\core\\events.py:89: UserWarning: Glyph 35338 (\\N{CJK UNIFIED IDEOGRAPH-8A0A}) missing from current font.\n",
            "  func(*args, **kwargs)\n",
            "c:\\Users\\Skywalker\\AppData\\Local\\Programs\\Python\\Python310\\lib\\site-packages\\IPython\\core\\events.py:89: UserWarning: Glyph 38651 (\\N{CJK UNIFIED IDEOGRAPH-96FB}) missing from current font.\n",
            "  func(*args, **kwargs)\n",
            "c:\\Users\\Skywalker\\AppData\\Local\\Programs\\Python\\Python310\\lib\\site-packages\\IPython\\core\\events.py:89: UserWarning: Glyph 27231 (\\N{CJK UNIFIED IDEOGRAPH-6A5F}) missing from current font.\n",
            "  func(*args, **kwargs)\n",
            "findfont: Font family 'Taipei Sans TC Beta' not found.\n",
            "findfont: Font family 'Taipei Sans TC Beta' not found.\n",
            "c:\\Users\\Skywalker\\AppData\\Local\\Programs\\Python\\Python310\\lib\\site-packages\\IPython\\core\\events.py:89: UserWarning: Glyph 31649 (\\N{CJK UNIFIED IDEOGRAPH-7BA1}) missing from current font.\n",
            "  func(*args, **kwargs)\n",
            "findfont: Font family 'Taipei Sans TC Beta' not found.\n",
            "findfont: Font family 'Taipei Sans TC Beta' not found.\n",
            "findfont: Font family 'Taipei Sans TC Beta' not found.\n",
            "findfont: Font family 'Taipei Sans TC Beta' not found.\n",
            "findfont: Font family 'Taipei Sans TC Beta' not found.\n",
            "findfont: Font family 'Taipei Sans TC Beta' not found.\n",
            "findfont: Font family 'Taipei Sans TC Beta' not found.\n",
            "findfont: Font family 'Taipei Sans TC Beta' not found.\n",
            "findfont: Font family 'Taipei Sans TC Beta' not found.\n",
            "c:\\Users\\Skywalker\\AppData\\Local\\Programs\\Python\\Python310\\lib\\site-packages\\IPython\\core\\events.py:89: UserWarning: Glyph 38626 (\\N{CJK UNIFIED IDEOGRAPH-96E2}) missing from current font.\n",
            "  func(*args, **kwargs)\n",
            "c:\\Users\\Skywalker\\AppData\\Local\\Programs\\Python\\Python310\\lib\\site-packages\\IPython\\core\\events.py:89: UserWarning: Glyph 26657 (\\N{CJK UNIFIED IDEOGRAPH-6821}) missing from current font.\n",
            "  func(*args, **kwargs)\n",
            "c:\\Users\\Skywalker\\AppData\\Local\\Programs\\Python\\Python310\\lib\\site-packages\\IPython\\core\\events.py:89: UserWarning: Glyph 21029 (\\N{CJK UNIFIED IDEOGRAPH-5225}) missing from current font.\n",
            "  func(*args, **kwargs)\n",
            "c:\\Users\\Skywalker\\AppData\\Local\\Programs\\Python\\Python310\\lib\\site-packages\\IPython\\core\\events.py:89: UserWarning: Glyph 21517 (\\N{CJK UNIFIED IDEOGRAPH-540D}) missing from current font.\n",
            "  func(*args, **kwargs)\n",
            "c:\\Users\\Skywalker\\AppData\\Local\\Programs\\Python\\Python310\\lib\\site-packages\\IPython\\core\\events.py:89: UserWarning: Glyph 31281 (\\N{CJK UNIFIED IDEOGRAPH-7A31}) missing from current font.\n",
            "  func(*args, **kwargs)\n",
            "c:\\Users\\Skywalker\\AppData\\Local\\Programs\\Python\\Python310\\lib\\site-packages\\IPython\\core\\events.py:89: UserWarning: Glyph 20013 (\\N{CJK UNIFIED IDEOGRAPH-4E2D}) missing from current font.\n",
            "  func(*args, **kwargs)\n",
            "findfont: Font family 'Taipei Sans TC Beta' not found.\n",
            "findfont: Font family 'Taipei Sans TC Beta' not found.\n",
            "findfont: Font family 'Taipei Sans TC Beta' not found.\n",
            "findfont: Font family 'Taipei Sans TC Beta' not found.\n",
            "findfont: Font family 'Taipei Sans TC Beta' not found.\n",
            "findfont: Font family 'Taipei Sans TC Beta' not found.\n",
            "findfont: Font family 'Taipei Sans TC Beta' not found.\n",
            "findfont: Font family 'Taipei Sans TC Beta' not found.\n",
            "findfont: Font family 'Taipei Sans TC Beta' not found.\n",
            "findfont: Font family 'Taipei Sans TC Beta' not found.\n",
            "findfont: Font family 'Taipei Sans TC Beta' not found.\n",
            "findfont: Font family 'Taipei Sans TC Beta' not found.\n",
            "findfont: Font family 'Taipei Sans TC Beta' not found.\n",
            "findfont: Font family 'Taipei Sans TC Beta' not found.\n",
            "findfont: Font family 'Taipei Sans TC Beta' not found.\n",
            "findfont: Font family 'Taipei Sans TC Beta' not found.\n",
            "findfont: Font family 'Taipei Sans TC Beta' not found.\n",
            "findfont: Font family 'Taipei Sans TC Beta' not found.\n",
            "findfont: Font family 'Taipei Sans TC Beta' not found.\n",
            "c:\\Users\\Skywalker\\AppData\\Local\\Programs\\Python\\Python310\\lib\\site-packages\\IPython\\core\\pylabtools.py:151: UserWarning: Glyph 23458 (\\N{CJK UNIFIED IDEOGRAPH-5BA2}) missing from current font.\n",
            "  fig.canvas.print_figure(bytes_io, **kw)\n",
            "c:\\Users\\Skywalker\\AppData\\Local\\Programs\\Python\\Python310\\lib\\site-packages\\IPython\\core\\pylabtools.py:151: UserWarning: Glyph 23478 (\\N{CJK UNIFIED IDEOGRAPH-5BB6}) missing from current font.\n",
            "  fig.canvas.print_figure(bytes_io, **kw)\n",
            "c:\\Users\\Skywalker\\AppData\\Local\\Programs\\Python\\Python310\\lib\\site-packages\\IPython\\core\\pylabtools.py:151: UserWarning: Glyph 23416 (\\N{CJK UNIFIED IDEOGRAPH-5B78}) missing from current font.\n",
            "  fig.canvas.print_figure(bytes_io, **kw)\n",
            "c:\\Users\\Skywalker\\AppData\\Local\\Programs\\Python\\Python310\\lib\\site-packages\\IPython\\core\\pylabtools.py:151: UserWarning: Glyph 38498 (\\N{CJK UNIFIED IDEOGRAPH-9662}) missing from current font.\n",
            "  fig.canvas.print_figure(bytes_io, **kw)\n",
            "findfont: Font family 'Taipei Sans TC Beta' not found.\n",
            "c:\\Users\\Skywalker\\AppData\\Local\\Programs\\Python\\Python310\\lib\\site-packages\\IPython\\core\\pylabtools.py:151: UserWarning: Glyph 29983 (\\N{CJK UNIFIED IDEOGRAPH-751F}) missing from current font.\n",
            "  fig.canvas.print_figure(bytes_io, **kw)\n",
            "c:\\Users\\Skywalker\\AppData\\Local\\Programs\\Python\\Python310\\lib\\site-packages\\IPython\\core\\pylabtools.py:151: UserWarning: Glyph 37291 (\\N{CJK UNIFIED IDEOGRAPH-91AB}) missing from current font.\n",
            "  fig.canvas.print_figure(bytes_io, **kw)\n",
            "c:\\Users\\Skywalker\\AppData\\Local\\Programs\\Python\\Python310\\lib\\site-packages\\IPython\\core\\pylabtools.py:151: UserWarning: Glyph 29702 (\\N{CJK UNIFIED IDEOGRAPH-7406}) missing from current font.\n",
            "  fig.canvas.print_figure(bytes_io, **kw)\n",
            "c:\\Users\\Skywalker\\AppData\\Local\\Programs\\Python\\Python310\\lib\\site-packages\\IPython\\core\\pylabtools.py:151: UserWarning: Glyph 24037 (\\N{CJK UNIFIED IDEOGRAPH-5DE5}) missing from current font.\n",
            "  fig.canvas.print_figure(bytes_io, **kw)\n",
            "findfont: Font family 'Taipei Sans TC Beta' not found.\n",
            "c:\\Users\\Skywalker\\AppData\\Local\\Programs\\Python\\Python310\\lib\\site-packages\\IPython\\core\\pylabtools.py:151: UserWarning: Glyph 22320 (\\N{CJK UNIFIED IDEOGRAPH-5730}) missing from current font.\n",
            "  fig.canvas.print_figure(bytes_io, **kw)\n",
            "c:\\Users\\Skywalker\\AppData\\Local\\Programs\\Python\\Python310\\lib\\site-packages\\IPython\\core\\pylabtools.py:151: UserWarning: Glyph 29699 (\\N{CJK UNIFIED IDEOGRAPH-7403}) missing from current font.\n",
            "  fig.canvas.print_figure(bytes_io, **kw)\n",
            "c:\\Users\\Skywalker\\AppData\\Local\\Programs\\Python\\Python310\\lib\\site-packages\\IPython\\core\\pylabtools.py:151: UserWarning: Glyph 31185 (\\N{CJK UNIFIED IDEOGRAPH-79D1}) missing from current font.\n",
            "  fig.canvas.print_figure(bytes_io, **kw)\n",
            "findfont: Font family 'Taipei Sans TC Beta' not found.\n",
            "c:\\Users\\Skywalker\\AppData\\Local\\Programs\\Python\\Python310\\lib\\site-packages\\IPython\\core\\pylabtools.py:151: UserWarning: Glyph 25991 (\\N{CJK UNIFIED IDEOGRAPH-6587}) missing from current font.\n",
            "  fig.canvas.print_figure(bytes_io, **kw)\n",
            "findfont: Font family 'Taipei Sans TC Beta' not found.\n",
            "findfont: Font family 'Taipei Sans TC Beta' not found.\n",
            "c:\\Users\\Skywalker\\AppData\\Local\\Programs\\Python\\Python310\\lib\\site-packages\\IPython\\core\\pylabtools.py:151: UserWarning: Glyph 36039 (\\N{CJK UNIFIED IDEOGRAPH-8CC7}) missing from current font.\n",
            "  fig.canvas.print_figure(bytes_io, **kw)\n",
            "c:\\Users\\Skywalker\\AppData\\Local\\Programs\\Python\\Python310\\lib\\site-packages\\IPython\\core\\pylabtools.py:151: UserWarning: Glyph 35338 (\\N{CJK UNIFIED IDEOGRAPH-8A0A}) missing from current font.\n",
            "  fig.canvas.print_figure(bytes_io, **kw)\n",
            "c:\\Users\\Skywalker\\AppData\\Local\\Programs\\Python\\Python310\\lib\\site-packages\\IPython\\core\\pylabtools.py:151: UserWarning: Glyph 38651 (\\N{CJK UNIFIED IDEOGRAPH-96FB}) missing from current font.\n",
            "  fig.canvas.print_figure(bytes_io, **kw)\n",
            "c:\\Users\\Skywalker\\AppData\\Local\\Programs\\Python\\Python310\\lib\\site-packages\\IPython\\core\\pylabtools.py:151: UserWarning: Glyph 27231 (\\N{CJK UNIFIED IDEOGRAPH-6A5F}) missing from current font.\n",
            "  fig.canvas.print_figure(bytes_io, **kw)\n",
            "findfont: Font family 'Taipei Sans TC Beta' not found.\n",
            "findfont: Font family 'Taipei Sans TC Beta' not found.\n",
            "c:\\Users\\Skywalker\\AppData\\Local\\Programs\\Python\\Python310\\lib\\site-packages\\IPython\\core\\pylabtools.py:151: UserWarning: Glyph 31649 (\\N{CJK UNIFIED IDEOGRAPH-7BA1}) missing from current font.\n",
            "  fig.canvas.print_figure(bytes_io, **kw)\n",
            "findfont: Font family 'Taipei Sans TC Beta' not found.\n",
            "findfont: Font family 'Taipei Sans TC Beta' not found.\n",
            "findfont: Font family 'Taipei Sans TC Beta' not found.\n",
            "findfont: Font family 'Taipei Sans TC Beta' not found.\n",
            "findfont: Font family 'Taipei Sans TC Beta' not found.\n",
            "findfont: Font family 'Taipei Sans TC Beta' not found.\n",
            "findfont: Font family 'Taipei Sans TC Beta' not found.\n",
            "findfont: Font family 'Taipei Sans TC Beta' not found.\n",
            "findfont: Font family 'Taipei Sans TC Beta' not found.\n",
            "c:\\Users\\Skywalker\\AppData\\Local\\Programs\\Python\\Python310\\lib\\site-packages\\IPython\\core\\pylabtools.py:151: UserWarning: Glyph 38626 (\\N{CJK UNIFIED IDEOGRAPH-96E2}) missing from current font.\n",
            "  fig.canvas.print_figure(bytes_io, **kw)\n",
            "c:\\Users\\Skywalker\\AppData\\Local\\Programs\\Python\\Python310\\lib\\site-packages\\IPython\\core\\pylabtools.py:151: UserWarning: Glyph 26657 (\\N{CJK UNIFIED IDEOGRAPH-6821}) missing from current font.\n",
            "  fig.canvas.print_figure(bytes_io, **kw)\n",
            "c:\\Users\\Skywalker\\AppData\\Local\\Programs\\Python\\Python310\\lib\\site-packages\\IPython\\core\\pylabtools.py:151: UserWarning: Glyph 21029 (\\N{CJK UNIFIED IDEOGRAPH-5225}) missing from current font.\n",
            "  fig.canvas.print_figure(bytes_io, **kw)\n",
            "c:\\Users\\Skywalker\\AppData\\Local\\Programs\\Python\\Python310\\lib\\site-packages\\IPython\\core\\pylabtools.py:151: UserWarning: Glyph 21517 (\\N{CJK UNIFIED IDEOGRAPH-540D}) missing from current font.\n",
            "  fig.canvas.print_figure(bytes_io, **kw)\n",
            "c:\\Users\\Skywalker\\AppData\\Local\\Programs\\Python\\Python310\\lib\\site-packages\\IPython\\core\\pylabtools.py:151: UserWarning: Glyph 31281 (\\N{CJK UNIFIED IDEOGRAPH-7A31}) missing from current font.\n",
            "  fig.canvas.print_figure(bytes_io, **kw)\n",
            "c:\\Users\\Skywalker\\AppData\\Local\\Programs\\Python\\Python310\\lib\\site-packages\\IPython\\core\\pylabtools.py:151: UserWarning: Glyph 20013 (\\N{CJK UNIFIED IDEOGRAPH-4E2D}) missing from current font.\n",
            "  fig.canvas.print_figure(bytes_io, **kw)\n",
            "findfont: Font family 'Taipei Sans TC Beta' not found.\n"
          ]
        },
        {
          "data": {
            "image/png": "[encoded data removed]",
            "text/plain": [
              "<Figure size 600x400 with 1 Axes>"
            ]
          },
          "metadata": {},
          "output_type": "display_data"
        }
      ],
      "source": [
        "most_graduates = college_group_fix_student.sort('num_students sum', descending = True)\n",
        "most_graduates.barh('離校院別名稱(中)')"
      ]
    },
    {
      "cell_type": "markdown",
      "metadata": {
        "id": "fMlQYEyajSA1"
      },
      "source": [
        "A: 管理學院"
      ]
    },
    {
      "cell_type": "markdown",
      "metadata": {
        "id": "l96HbmgPW8ue"
      },
      "source": [
        "## 5. Which college has the most unbalance 入學管道?  In other word, we say it’s balanced if each 管道 has similar number of graduates.\n",
        "* Please show me a pivot table, where 入學管道 and college in vertical and horizon directions, respectively, and each cell shows total number of students. [10 points]\n",
        "* Please plot a bar chart to show the distribution of # of graduates by college and 入學管道, i.e., a 2-D bar chart. [10 points]\n"
      ]
    },
    {
      "cell_type": "code",
      "execution_count": 10,
      "metadata": {
        "colab": {
          "base_uri": "https://localhost:8080/",
          "height": 143
        },
        "id": "SGFXvgLYaRsw",
        "outputId": "8352b81c-c4ed-458e-8ff5-e4680856c60c"
      },
      "outputs": [
        {
          "data": {
            "text/html": [
              "<table border=\"1\" class=\"dataframe\">\n",
              "    <thead>\n",
              "        <tr>\n",
              "            <th>入學管道</th> <th>地球科學學院</th> <th>客家學院</th> <th>工學院</th> <th>文學院</th> <th>理學院</th> <th>生醫理工學院</th> <th>管理學院</th> <th>資訊電機學院</th>\n",
              "        </tr>\n",
              "    </thead>\n",
              "    <tbody>\n",
              "        <tr>\n",
              "            <td>學士班(指考分發/聯考)</td> <td>376   </td> <td>25  </td> <td>1231</td> <td>850 </td> <td>928 </td> <td>185   </td> <td>1488</td> <td>774   </td>\n",
              "        </tr>\n",
              "        <tr>\n",
              "            <td>學士班申請入學     </td> <td>368   </td> <td>54  </td> <td>635 </td> <td>204 </td> <td>462 </td> <td>64    </td> <td>659 </td> <td>874   </td>\n",
              "        </tr>\n",
              "        <tr>\n",
              "            <td>繁星推薦        </td> <td>105   </td> <td>9   </td> <td>351 </td> <td>158 </td> <td>263 </td> <td>87    </td> <td>395 </td> <td>397   </td>\n",
              "        </tr>\n",
              "    </tbody>\n",
              "</table>"
            ],
            "text/plain": [
              "入學管道         | 地球科學學院 | 客家學院 | 工學院  | 文學院  | 理學院  | 生醫理工學院 | 管理學院 | 資訊電機學院\n",
              "學士班(指考分發/聯考) | 376    | 25   | 1231 | 850  | 928  | 185    | 1488 | 774\n",
              "學士班申請入學      | 368    | 54   | 635  | 204  | 462  | 64     | 659  | 874\n",
              "繁星推薦         | 105    | 9    | 351  | 158  | 263  | 87     | 395  | 397"
            ]
          },
          "execution_count": 10,
          "metadata": {},
          "output_type": "execute_result"
        }
      ],
      "source": [
        "entry_and_college = fix_student.pivot(\"離校院別名稱(中)\", \"入學管道\", values = 'num_students', collect = sum)\n",
        "entry_and_college"
      ]
    },
    {
      "cell_type": "code",
      "execution_count": 11,
      "metadata": {
        "colab": {
          "base_uri": "https://localhost:8080/",
          "height": 282
        },
        "id": "R4uX6_kkdKdx",
        "outputId": "c68f16bc-5f7d-4b71-bc7d-b7dc701f232b"
      },
      "outputs": [
        {
          "name": "stderr",
          "output_type": "stream",
          "text": [
            "findfont: Font family 'Taipei Sans TC Beta' not found.\n",
            "findfont: Font family 'Taipei Sans TC Beta' not found.\n",
            "findfont: Font family 'Taipei Sans TC Beta' not found.\n",
            "findfont: Font family 'Taipei Sans TC Beta' not found.\n",
            "findfont: Font family 'Taipei Sans TC Beta' not found.\n",
            "findfont: Font family 'Taipei Sans TC Beta' not found.\n",
            "findfont: Font family 'Taipei Sans TC Beta' not found.\n",
            "findfont: Font family 'Taipei Sans TC Beta' not found.\n",
            "findfont: Font family 'Taipei Sans TC Beta' not found.\n",
            "findfont: Font family 'Taipei Sans TC Beta' not found.\n",
            "findfont: Font family 'Taipei Sans TC Beta' not found.\n",
            "findfont: Font family 'Taipei Sans TC Beta' not found.\n",
            "findfont: Font family 'Taipei Sans TC Beta' not found.\n",
            "findfont: Font family 'Taipei Sans TC Beta' not found.\n",
            "findfont: Font family 'Taipei Sans TC Beta' not found.\n",
            "findfont: Font family 'Taipei Sans TC Beta' not found.\n",
            "findfont: Font family 'Taipei Sans TC Beta' not found.\n",
            "findfont: Font family 'Taipei Sans TC Beta' not found.\n",
            "findfont: Font family 'Taipei Sans TC Beta' not found.\n",
            "c:\\Users\\Skywalker\\AppData\\Local\\Programs\\Python\\Python310\\lib\\site-packages\\IPython\\core\\events.py:89: UserWarning: Glyph 32321 (\\N{CJK UNIFIED IDEOGRAPH-7E41}) missing from current font.\n",
            "  func(*args, **kwargs)\n",
            "c:\\Users\\Skywalker\\AppData\\Local\\Programs\\Python\\Python310\\lib\\site-packages\\IPython\\core\\events.py:89: UserWarning: Glyph 26143 (\\N{CJK UNIFIED IDEOGRAPH-661F}) missing from current font.\n",
            "  func(*args, **kwargs)\n",
            "c:\\Users\\Skywalker\\AppData\\Local\\Programs\\Python\\Python310\\lib\\site-packages\\IPython\\core\\events.py:89: UserWarning: Glyph 25512 (\\N{CJK UNIFIED IDEOGRAPH-63A8}) missing from current font.\n",
            "  func(*args, **kwargs)\n",
            "c:\\Users\\Skywalker\\AppData\\Local\\Programs\\Python\\Python310\\lib\\site-packages\\IPython\\core\\events.py:89: UserWarning: Glyph 34214 (\\N{CJK UNIFIED IDEOGRAPH-85A6}) missing from current font.\n",
            "  func(*args, **kwargs)\n",
            "findfont: Font family 'Taipei Sans TC Beta' not found.\n",
            "c:\\Users\\Skywalker\\AppData\\Local\\Programs\\Python\\Python310\\lib\\site-packages\\IPython\\core\\events.py:89: UserWarning: Glyph 22763 (\\N{CJK UNIFIED IDEOGRAPH-58EB}) missing from current font.\n",
            "  func(*args, **kwargs)\n",
            "c:\\Users\\Skywalker\\AppData\\Local\\Programs\\Python\\Python310\\lib\\site-packages\\IPython\\core\\events.py:89: UserWarning: Glyph 29677 (\\N{CJK UNIFIED IDEOGRAPH-73ED}) missing from current font.\n",
            "  func(*args, **kwargs)\n",
            "c:\\Users\\Skywalker\\AppData\\Local\\Programs\\Python\\Python310\\lib\\site-packages\\IPython\\core\\events.py:89: UserWarning: Glyph 30003 (\\N{CJK UNIFIED IDEOGRAPH-7533}) missing from current font.\n",
            "  func(*args, **kwargs)\n",
            "c:\\Users\\Skywalker\\AppData\\Local\\Programs\\Python\\Python310\\lib\\site-packages\\IPython\\core\\events.py:89: UserWarning: Glyph 35531 (\\N{CJK UNIFIED IDEOGRAPH-8ACB}) missing from current font.\n",
            "  func(*args, **kwargs)\n",
            "c:\\Users\\Skywalker\\AppData\\Local\\Programs\\Python\\Python310\\lib\\site-packages\\IPython\\core\\events.py:89: UserWarning: Glyph 20837 (\\N{CJK UNIFIED IDEOGRAPH-5165}) missing from current font.\n",
            "  func(*args, **kwargs)\n",
            "findfont: Font family 'Taipei Sans TC Beta' not found.\n",
            "c:\\Users\\Skywalker\\AppData\\Local\\Programs\\Python\\Python310\\lib\\site-packages\\IPython\\core\\events.py:89: UserWarning: Glyph 25351 (\\N{CJK UNIFIED IDEOGRAPH-6307}) missing from current font.\n",
            "  func(*args, **kwargs)\n",
            "c:\\Users\\Skywalker\\AppData\\Local\\Programs\\Python\\Python310\\lib\\site-packages\\IPython\\core\\events.py:89: UserWarning: Glyph 32771 (\\N{CJK UNIFIED IDEOGRAPH-8003}) missing from current font.\n",
            "  func(*args, **kwargs)\n",
            "c:\\Users\\Skywalker\\AppData\\Local\\Programs\\Python\\Python310\\lib\\site-packages\\IPython\\core\\events.py:89: UserWarning: Glyph 20998 (\\N{CJK UNIFIED IDEOGRAPH-5206}) missing from current font.\n",
            "  func(*args, **kwargs)\n",
            "c:\\Users\\Skywalker\\AppData\\Local\\Programs\\Python\\Python310\\lib\\site-packages\\IPython\\core\\events.py:89: UserWarning: Glyph 30332 (\\N{CJK UNIFIED IDEOGRAPH-767C}) missing from current font.\n",
            "  func(*args, **kwargs)\n",
            "c:\\Users\\Skywalker\\AppData\\Local\\Programs\\Python\\Python310\\lib\\site-packages\\IPython\\core\\events.py:89: UserWarning: Glyph 32879 (\\N{CJK UNIFIED IDEOGRAPH-806F}) missing from current font.\n",
            "  func(*args, **kwargs)\n",
            "findfont: Font family 'Taipei Sans TC Beta' not found.\n",
            "findfont: Font family 'Taipei Sans TC Beta' not found.\n",
            "findfont: Font family 'Taipei Sans TC Beta' not found.\n",
            "findfont: Font family 'Taipei Sans TC Beta' not found.\n",
            "findfont: Font family 'Taipei Sans TC Beta' not found.\n",
            "c:\\Users\\Skywalker\\AppData\\Local\\Programs\\Python\\Python310\\lib\\site-packages\\IPython\\core\\events.py:89: UserWarning: Glyph 36947 (\\N{CJK UNIFIED IDEOGRAPH-9053}) missing from current font.\n",
            "  func(*args, **kwargs)\n",
            "findfont: Font family 'Taipei Sans TC Beta' not found.\n",
            "findfont: Font family 'Taipei Sans TC Beta' not found.\n",
            "findfont: Font family 'Taipei Sans TC Beta' not found.\n",
            "findfont: Font family 'Taipei Sans TC Beta' not found.\n",
            "findfont: Font family 'Taipei Sans TC Beta' not found.\n",
            "findfont: Font family 'Taipei Sans TC Beta' not found.\n",
            "findfont: Font family 'Taipei Sans TC Beta' not found.\n",
            "findfont: Font family 'Taipei Sans TC Beta' not found.\n",
            "findfont: Font family 'Taipei Sans TC Beta' not found.\n",
            "findfont: Font family 'Taipei Sans TC Beta' not found.\n",
            "findfont: Font family 'Taipei Sans TC Beta' not found.\n",
            "findfont: Font family 'Taipei Sans TC Beta' not found.\n",
            "findfont: Font family 'Taipei Sans TC Beta' not found.\n",
            "findfont: Font family 'Taipei Sans TC Beta' not found.\n",
            "findfont: Font family 'Taipei Sans TC Beta' not found.\n",
            "findfont: Font family 'Taipei Sans TC Beta' not found.\n",
            "findfont: Font family 'Taipei Sans TC Beta' not found.\n",
            "findfont: Font family 'Taipei Sans TC Beta' not found.\n",
            "findfont: Font family 'Taipei Sans TC Beta' not found.\n",
            "findfont: Font family 'Taipei Sans TC Beta' not found.\n",
            "findfont: Font family 'Taipei Sans TC Beta' not found.\n",
            "findfont: Font family 'Taipei Sans TC Beta' not found.\n",
            "findfont: Font family 'Taipei Sans TC Beta' not found.\n",
            "findfont: Font family 'Taipei Sans TC Beta' not found.\n",
            "findfont: Font family 'Taipei Sans TC Beta' not found.\n",
            "findfont: Font family 'Taipei Sans TC Beta' not found.\n",
            "findfont: Font family 'Taipei Sans TC Beta' not found.\n",
            "findfont: Font family 'Taipei Sans TC Beta' not found.\n",
            "findfont: Font family 'Taipei Sans TC Beta' not found.\n",
            "findfont: Font family 'Taipei Sans TC Beta' not found.\n",
            "findfont: Font family 'Taipei Sans TC Beta' not found.\n",
            "findfont: Font family 'Taipei Sans TC Beta' not found.\n",
            "findfont: Font family 'Taipei Sans TC Beta' not found.\n",
            "findfont: Font family 'Taipei Sans TC Beta' not found.\n",
            "findfont: Font family 'Taipei Sans TC Beta' not found.\n",
            "findfont: Font family 'Taipei Sans TC Beta' not found.\n",
            "findfont: Font family 'Taipei Sans TC Beta' not found.\n",
            "findfont: Font family 'Taipei Sans TC Beta' not found.\n",
            "findfont: Font family 'Taipei Sans TC Beta' not found.\n",
            "findfont: Font family 'Taipei Sans TC Beta' not found.\n",
            "findfont: Font family 'Taipei Sans TC Beta' not found.\n",
            "findfont: Font family 'Taipei Sans TC Beta' not found.\n",
            "findfont: Font family 'Taipei Sans TC Beta' not found.\n",
            "findfont: Font family 'Taipei Sans TC Beta' not found.\n",
            "findfont: Font family 'Taipei Sans TC Beta' not found.\n",
            "findfont: Font family 'Taipei Sans TC Beta' not found.\n",
            "findfont: Font family 'Taipei Sans TC Beta' not found.\n",
            "findfont: Font family 'Taipei Sans TC Beta' not found.\n",
            "findfont: Font family 'Taipei Sans TC Beta' not found.\n",
            "findfont: Font family 'Taipei Sans TC Beta' not found.\n",
            "findfont: Font family 'Taipei Sans TC Beta' not found.\n",
            "findfont: Font family 'Taipei Sans TC Beta' not found.\n",
            "findfont: Font family 'Taipei Sans TC Beta' not found.\n",
            "findfont: Font family 'Taipei Sans TC Beta' not found.\n",
            "findfont: Font family 'Taipei Sans TC Beta' not found.\n",
            "findfont: Font family 'Taipei Sans TC Beta' not found.\n",
            "findfont: Font family 'Taipei Sans TC Beta' not found.\n",
            "findfont: Font family 'Taipei Sans TC Beta' not found.\n",
            "findfont: Font family 'Taipei Sans TC Beta' not found.\n",
            "findfont: Font family 'Taipei Sans TC Beta' not found.\n",
            "findfont: Font family 'Taipei Sans TC Beta' not found.\n",
            "findfont: Font family 'Taipei Sans TC Beta' not found.\n",
            "findfont: Font family 'Taipei Sans TC Beta' not found.\n",
            "findfont: Font family 'Taipei Sans TC Beta' not found.\n",
            "findfont: Font family 'Taipei Sans TC Beta' not found.\n",
            "findfont: Font family 'Taipei Sans TC Beta' not found.\n",
            "findfont: Font family 'Taipei Sans TC Beta' not found.\n",
            "findfont: Font family 'Taipei Sans TC Beta' not found.\n",
            "findfont: Font family 'Taipei Sans TC Beta' not found.\n",
            "findfont: Font family 'Taipei Sans TC Beta' not found.\n",
            "findfont: Font family 'Taipei Sans TC Beta' not found.\n",
            "findfont: Font family 'Taipei Sans TC Beta' not found.\n",
            "findfont: Font family 'Taipei Sans TC Beta' not found.\n",
            "findfont: Font family 'Taipei Sans TC Beta' not found.\n",
            "findfont: Font family 'Taipei Sans TC Beta' not found.\n",
            "findfont: Font family 'Taipei Sans TC Beta' not found.\n",
            "findfont: Font family 'Taipei Sans TC Beta' not found.\n",
            "findfont: Font family 'Taipei Sans TC Beta' not found.\n",
            "findfont: Font family 'Taipei Sans TC Beta' not found.\n",
            "findfont: Font family 'Taipei Sans TC Beta' not found.\n",
            "findfont: Font family 'Taipei Sans TC Beta' not found.\n",
            "findfont: Font family 'Taipei Sans TC Beta' not found.\n",
            "findfont: Font family 'Taipei Sans TC Beta' not found.\n",
            "findfont: Font family 'Taipei Sans TC Beta' not found.\n",
            "findfont: Font family 'Taipei Sans TC Beta' not found.\n",
            "findfont: Font family 'Taipei Sans TC Beta' not found.\n",
            "findfont: Font family 'Taipei Sans TC Beta' not found.\n",
            "findfont: Font family 'Taipei Sans TC Beta' not found.\n",
            "findfont: Font family 'Taipei Sans TC Beta' not found.\n",
            "findfont: Font family 'Taipei Sans TC Beta' not found.\n",
            "findfont: Font family 'Taipei Sans TC Beta' not found.\n",
            "findfont: Font family 'Taipei Sans TC Beta' not found.\n",
            "findfont: Font family 'Taipei Sans TC Beta' not found.\n",
            "findfont: Font family 'Taipei Sans TC Beta' not found.\n",
            "findfont: Font family 'Taipei Sans TC Beta' not found.\n",
            "findfont: Font family 'Taipei Sans TC Beta' not found.\n",
            "findfont: Font family 'Taipei Sans TC Beta' not found.\n",
            "findfont: Font family 'Taipei Sans TC Beta' not found.\n",
            "findfont: Font family 'Taipei Sans TC Beta' not found.\n",
            "findfont: Font family 'Taipei Sans TC Beta' not found.\n",
            "findfont: Font family 'Taipei Sans TC Beta' not found.\n",
            "findfont: Font family 'Taipei Sans TC Beta' not found.\n",
            "findfont: Font family 'Taipei Sans TC Beta' not found.\n",
            "findfont: Font family 'Taipei Sans TC Beta' not found.\n",
            "findfont: Font family 'Taipei Sans TC Beta' not found.\n",
            "findfont: Font family 'Taipei Sans TC Beta' not found.\n",
            "findfont: Font family 'Taipei Sans TC Beta' not found.\n",
            "findfont: Font family 'Taipei Sans TC Beta' not found.\n",
            "findfont: Font family 'Taipei Sans TC Beta' not found.\n",
            "findfont: Font family 'Taipei Sans TC Beta' not found.\n",
            "findfont: Font family 'Taipei Sans TC Beta' not found.\n",
            "findfont: Font family 'Taipei Sans TC Beta' not found.\n",
            "findfont: Font family 'Taipei Sans TC Beta' not found.\n",
            "findfont: Font family 'Taipei Sans TC Beta' not found.\n",
            "findfont: Font family 'Taipei Sans TC Beta' not found.\n",
            "findfont: Font family 'Taipei Sans TC Beta' not found.\n",
            "findfont: Font family 'Taipei Sans TC Beta' not found.\n",
            "findfont: Font family 'Taipei Sans TC Beta' not found.\n",
            "findfont: Font family 'Taipei Sans TC Beta' not found.\n",
            "findfont: Font family 'Taipei Sans TC Beta' not found.\n",
            "findfont: Font family 'Taipei Sans TC Beta' not found.\n",
            "findfont: Font family 'Taipei Sans TC Beta' not found.\n",
            "findfont: Font family 'Taipei Sans TC Beta' not found.\n",
            "findfont: Font family 'Taipei Sans TC Beta' not found.\n",
            "findfont: Font family 'Taipei Sans TC Beta' not found.\n",
            "findfont: Font family 'Taipei Sans TC Beta' not found.\n",
            "findfont: Font family 'Taipei Sans TC Beta' not found.\n",
            "findfont: Font family 'Taipei Sans TC Beta' not found.\n",
            "findfont: Font family 'Taipei Sans TC Beta' not found.\n",
            "findfont: Font family 'Taipei Sans TC Beta' not found.\n",
            "findfont: Font family 'Taipei Sans TC Beta' not found.\n",
            "findfont: Font family 'Taipei Sans TC Beta' not found.\n",
            "findfont: Font family 'Taipei Sans TC Beta' not found.\n",
            "findfont: Font family 'Taipei Sans TC Beta' not found.\n",
            "findfont: Font family 'Taipei Sans TC Beta' not found.\n",
            "findfont: Font family 'Taipei Sans TC Beta' not found.\n",
            "findfont: Font family 'Taipei Sans TC Beta' not found.\n",
            "findfont: Font family 'Taipei Sans TC Beta' not found.\n",
            "findfont: Font family 'Taipei Sans TC Beta' not found.\n",
            "findfont: Font family 'Taipei Sans TC Beta' not found.\n",
            "c:\\Users\\Skywalker\\AppData\\Local\\Programs\\Python\\Python310\\lib\\site-packages\\IPython\\core\\pylabtools.py:151: UserWarning: Glyph 32321 (\\N{CJK UNIFIED IDEOGRAPH-7E41}) missing from current font.\n",
            "  fig.canvas.print_figure(bytes_io, **kw)\n",
            "c:\\Users\\Skywalker\\AppData\\Local\\Programs\\Python\\Python310\\lib\\site-packages\\IPython\\core\\pylabtools.py:151: UserWarning: Glyph 26143 (\\N{CJK UNIFIED IDEOGRAPH-661F}) missing from current font.\n",
            "  fig.canvas.print_figure(bytes_io, **kw)\n",
            "c:\\Users\\Skywalker\\AppData\\Local\\Programs\\Python\\Python310\\lib\\site-packages\\IPython\\core\\pylabtools.py:151: UserWarning: Glyph 25512 (\\N{CJK UNIFIED IDEOGRAPH-63A8}) missing from current font.\n",
            "  fig.canvas.print_figure(bytes_io, **kw)\n",
            "c:\\Users\\Skywalker\\AppData\\Local\\Programs\\Python\\Python310\\lib\\site-packages\\IPython\\core\\pylabtools.py:151: UserWarning: Glyph 34214 (\\N{CJK UNIFIED IDEOGRAPH-85A6}) missing from current font.\n",
            "  fig.canvas.print_figure(bytes_io, **kw)\n",
            "findfont: Font family 'Taipei Sans TC Beta' not found.\n",
            "c:\\Users\\Skywalker\\AppData\\Local\\Programs\\Python\\Python310\\lib\\site-packages\\IPython\\core\\pylabtools.py:151: UserWarning: Glyph 22763 (\\N{CJK UNIFIED IDEOGRAPH-58EB}) missing from current font.\n",
            "  fig.canvas.print_figure(bytes_io, **kw)\n",
            "c:\\Users\\Skywalker\\AppData\\Local\\Programs\\Python\\Python310\\lib\\site-packages\\IPython\\core\\pylabtools.py:151: UserWarning: Glyph 29677 (\\N{CJK UNIFIED IDEOGRAPH-73ED}) missing from current font.\n",
            "  fig.canvas.print_figure(bytes_io, **kw)\n",
            "c:\\Users\\Skywalker\\AppData\\Local\\Programs\\Python\\Python310\\lib\\site-packages\\IPython\\core\\pylabtools.py:151: UserWarning: Glyph 30003 (\\N{CJK UNIFIED IDEOGRAPH-7533}) missing from current font.\n",
            "  fig.canvas.print_figure(bytes_io, **kw)\n",
            "c:\\Users\\Skywalker\\AppData\\Local\\Programs\\Python\\Python310\\lib\\site-packages\\IPython\\core\\pylabtools.py:151: UserWarning: Glyph 35531 (\\N{CJK UNIFIED IDEOGRAPH-8ACB}) missing from current font.\n",
            "  fig.canvas.print_figure(bytes_io, **kw)\n",
            "c:\\Users\\Skywalker\\AppData\\Local\\Programs\\Python\\Python310\\lib\\site-packages\\IPython\\core\\pylabtools.py:151: UserWarning: Glyph 20837 (\\N{CJK UNIFIED IDEOGRAPH-5165}) missing from current font.\n",
            "  fig.canvas.print_figure(bytes_io, **kw)\n",
            "findfont: Font family 'Taipei Sans TC Beta' not found.\n",
            "c:\\Users\\Skywalker\\AppData\\Local\\Programs\\Python\\Python310\\lib\\site-packages\\IPython\\core\\pylabtools.py:151: UserWarning: Glyph 25351 (\\N{CJK UNIFIED IDEOGRAPH-6307}) missing from current font.\n",
            "  fig.canvas.print_figure(bytes_io, **kw)\n",
            "c:\\Users\\Skywalker\\AppData\\Local\\Programs\\Python\\Python310\\lib\\site-packages\\IPython\\core\\pylabtools.py:151: UserWarning: Glyph 32771 (\\N{CJK UNIFIED IDEOGRAPH-8003}) missing from current font.\n",
            "  fig.canvas.print_figure(bytes_io, **kw)\n",
            "c:\\Users\\Skywalker\\AppData\\Local\\Programs\\Python\\Python310\\lib\\site-packages\\IPython\\core\\pylabtools.py:151: UserWarning: Glyph 20998 (\\N{CJK UNIFIED IDEOGRAPH-5206}) missing from current font.\n",
            "  fig.canvas.print_figure(bytes_io, **kw)\n",
            "c:\\Users\\Skywalker\\AppData\\Local\\Programs\\Python\\Python310\\lib\\site-packages\\IPython\\core\\pylabtools.py:151: UserWarning: Glyph 30332 (\\N{CJK UNIFIED IDEOGRAPH-767C}) missing from current font.\n",
            "  fig.canvas.print_figure(bytes_io, **kw)\n",
            "c:\\Users\\Skywalker\\AppData\\Local\\Programs\\Python\\Python310\\lib\\site-packages\\IPython\\core\\pylabtools.py:151: UserWarning: Glyph 32879 (\\N{CJK UNIFIED IDEOGRAPH-806F}) missing from current font.\n",
            "  fig.canvas.print_figure(bytes_io, **kw)\n",
            "findfont: Font family 'Taipei Sans TC Beta' not found.\n",
            "findfont: Font family 'Taipei Sans TC Beta' not found.\n",
            "findfont: Font family 'Taipei Sans TC Beta' not found.\n",
            "findfont: Font family 'Taipei Sans TC Beta' not found.\n",
            "findfont: Font family 'Taipei Sans TC Beta' not found.\n",
            "c:\\Users\\Skywalker\\AppData\\Local\\Programs\\Python\\Python310\\lib\\site-packages\\IPython\\core\\pylabtools.py:151: UserWarning: Glyph 36947 (\\N{CJK UNIFIED IDEOGRAPH-9053}) missing from current font.\n",
            "  fig.canvas.print_figure(bytes_io, **kw)\n",
            "findfont: Font family 'Taipei Sans TC Beta' not found.\n",
            "findfont: Font family 'Taipei Sans TC Beta' not found.\n",
            "findfont: Font family 'Taipei Sans TC Beta' not found.\n",
            "findfont: Font family 'Taipei Sans TC Beta' not found.\n",
            "findfont: Font family 'Taipei Sans TC Beta' not found.\n",
            "findfont: Font family 'Taipei Sans TC Beta' not found.\n",
            "findfont: Font family 'Taipei Sans TC Beta' not found.\n",
            "findfont: Font family 'Taipei Sans TC Beta' not found.\n",
            "findfont: Font family 'Taipei Sans TC Beta' not found.\n",
            "findfont: Font family 'Taipei Sans TC Beta' not found.\n",
            "findfont: Font family 'Taipei Sans TC Beta' not found.\n",
            "findfont: Font family 'Taipei Sans TC Beta' not found.\n",
            "findfont: Font family 'Taipei Sans TC Beta' not found.\n",
            "findfont: Font family 'Taipei Sans TC Beta' not found.\n",
            "findfont: Font family 'Taipei Sans TC Beta' not found.\n",
            "findfont: Font family 'Taipei Sans TC Beta' not found.\n",
            "findfont: Font family 'Taipei Sans TC Beta' not found.\n",
            "findfont: Font family 'Taipei Sans TC Beta' not found.\n",
            "findfont: Font family 'Taipei Sans TC Beta' not found.\n",
            "findfont: Font family 'Taipei Sans TC Beta' not found.\n",
            "findfont: Font family 'Taipei Sans TC Beta' not found.\n",
            "findfont: Font family 'Taipei Sans TC Beta' not found.\n",
            "findfont: Font family 'Taipei Sans TC Beta' not found.\n",
            "findfont: Font family 'Taipei Sans TC Beta' not found.\n",
            "findfont: Font family 'Taipei Sans TC Beta' not found.\n",
            "findfont: Font family 'Taipei Sans TC Beta' not found.\n",
            "findfont: Font family 'Taipei Sans TC Beta' not found.\n",
            "findfont: Font family 'Taipei Sans TC Beta' not found.\n",
            "findfont: Font family 'Taipei Sans TC Beta' not found.\n",
            "findfont: Font family 'Taipei Sans TC Beta' not found.\n",
            "findfont: Font family 'Taipei Sans TC Beta' not found.\n",
            "findfont: Font family 'Taipei Sans TC Beta' not found.\n",
            "findfont: Font family 'Taipei Sans TC Beta' not found.\n",
            "findfont: Font family 'Taipei Sans TC Beta' not found.\n",
            "findfont: Font family 'Taipei Sans TC Beta' not found.\n",
            "findfont: Font family 'Taipei Sans TC Beta' not found.\n",
            "findfont: Font family 'Taipei Sans TC Beta' not found.\n",
            "findfont: Font family 'Taipei Sans TC Beta' not found.\n",
            "findfont: Font family 'Taipei Sans TC Beta' not found.\n",
            "findfont: Font family 'Taipei Sans TC Beta' not found.\n",
            "findfont: Font family 'Taipei Sans TC Beta' not found.\n",
            "findfont: Font family 'Taipei Sans TC Beta' not found.\n",
            "findfont: Font family 'Taipei Sans TC Beta' not found.\n",
            "findfont: Font family 'Taipei Sans TC Beta' not found.\n",
            "findfont: Font family 'Taipei Sans TC Beta' not found.\n",
            "findfont: Font family 'Taipei Sans TC Beta' not found.\n",
            "findfont: Font family 'Taipei Sans TC Beta' not found.\n",
            "findfont: Font family 'Taipei Sans TC Beta' not found.\n",
            "findfont: Font family 'Taipei Sans TC Beta' not found.\n",
            "findfont: Font family 'Taipei Sans TC Beta' not found.\n",
            "findfont: Font family 'Taipei Sans TC Beta' not found.\n",
            "findfont: Font family 'Taipei Sans TC Beta' not found.\n",
            "findfont: Font family 'Taipei Sans TC Beta' not found.\n",
            "findfont: Font family 'Taipei Sans TC Beta' not found.\n",
            "findfont: Font family 'Taipei Sans TC Beta' not found.\n",
            "findfont: Font family 'Taipei Sans TC Beta' not found.\n",
            "findfont: Font family 'Taipei Sans TC Beta' not found.\n"
          ]
        },
        {
          "data": {
            "image/png": "[encoded data removed]",
            "text/plain": [
              "<Figure size 600x400 with 1 Axes>"
            ]
          },
          "metadata": {},
          "output_type": "display_data"
        }
      ],
      "source": [
        "entry_and_college.barh(\"入學管道\")"
      ]
    }
  ],
  "metadata": {
    "colab": {
      "collapsed_sections": [],
      "provenance": []
    },
    "kernelspec": {
      "display_name": "Python 3.10.7 64-bit",
      "language": "python",
      "name": "python3"
    },
    "language_info": {
      "codemirror_mode": {
        "name": "ipython",
        "version": 3
      },
      "file_extension": ".py",
      "mimetype": "text/x-python",
      "name": "python",
      "nbconvert_exporter": "python",
      "pygments_lexer": "ipython3",
      "version": "3.10.7"
    },
    "vscode": {
      "interpreter": {
        "hash": "99d2c5b65e81850156af989b34f3e04c8706a601ce17dace07ed2c96aed14d9a"
      }
    }
  },
  "nbformat": 4,
  "nbformat_minor": 0
}
